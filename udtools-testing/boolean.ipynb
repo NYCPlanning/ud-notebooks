{
 "cells": [
  {
   "cell_type": "code",
   "execution_count": 7,
   "source": [
    "# display results\n",
    "from OCC.Display.WebGl.jupyter_renderer import JupyterRenderer\n",
    "renderer = JupyterRenderer()"
   ],
   "outputs": [],
   "metadata": {}
  },
  {
   "cell_type": "code",
   "execution_count": 2,
   "source": [
    "import random\n",
    "import time\n",
    "import sys\n",
    "\n",
    "from OCC.Core.BRepPrimAPI import BRepPrimAPI_MakeBox, BRepPrimAPI_MakeCylinder\n",
    "from OCC.Core.gp import gp_Pnt, gp_Vec, gp_Ax2, gp_Dir\n",
    "from OCC.Core.BRepAlgoAPI import BRepAlgoAPI_Cut\n",
    "from OCC.Core.TopTools import TopTools_ListOfShape"
   ],
   "outputs": [],
   "metadata": {}
  },
  {
   "cell_type": "code",
   "execution_count": 4,
   "source": [
    "def random_pnt():\n",
    "    x, y, z = [random.uniform(0, 1) for i in range(3)]\n",
    "    return gp_Pnt(x, y, z)\n",
    "\n",
    "def random_vec():\n",
    "    x, y, z = [random.uniform(-1, 1) for i in range(3)]\n",
    "    return gp_Vec(x, y, z)\n",
    "\n",
    "def fuzzy_cut(shape_A, shape_B, tol=5e-5, parallel=False):\n",
    "    \"\"\" returns shape_A - shape_B\n",
    "    \"\"\"\n",
    "    cut = BRepAlgoAPI_Cut()\n",
    "    L1 = TopTools_ListOfShape()\n",
    "    L1.Append(shape_A)\n",
    "    L2 = TopTools_ListOfShape()\n",
    "    L2.Append(shape_B)\n",
    "    cut.SetArguments(L1)\n",
    "    cut.SetTools(L2)\n",
    "    cut.SetFuzzyValue(tol)\n",
    "    cut.SetRunParallel(parallel)\n",
    "    cut.Build()\n",
    "    return cut.Shape()\n",
    "\n",
    "def emmenthaler(event=None):\n",
    "    init_time = time.time()\n",
    "    scope = 200.\n",
    "    nb_iter = 40\n",
    "    box = BRepPrimAPI_MakeBox(scope, scope, scope).Shape()\n",
    "\n",
    "    def do_cyl():\n",
    "        axe = gp_Ax2()\n",
    "        axe.SetLocation(gp_Pnt((random_vec()*scope).XYZ()))\n",
    "        axe.SetDirection(gp_Dir(random_vec()))\n",
    "        cyl = BRepPrimAPI_MakeCylinder(axe, random.uniform(8, 36), 5000.)\n",
    "        return cyl.Shape()\n",
    "\n",
    "    # perform a recursive fusszy cut\n",
    "    # initialize the loop with the box shape\n",
    "    shp = box\n",
    "    for i in range(nb_iter):\n",
    "        cyl = do_cyl()\n",
    "        tA = time.time()\n",
    "        shp = fuzzy_cut(shp, cyl, 1e-4)\n",
    "        print('boolean cylinder:', i, 'took', time.time()-tA)\n",
    "    \n",
    "    total_time = time.time() - init_time\n",
    "    print(\"Total time : %fs\" % total_time)\n",
    "    return shp"
   ],
   "outputs": [],
   "metadata": {}
  },
  {
   "cell_type": "code",
   "execution_count": 5,
   "source": [
    "shape = emmenthaler()"
   ],
   "outputs": [
    {
     "output_type": "stream",
     "name": "stdout",
     "text": [
      "boolean cylinder: 0 took 0.002116680145263672\n",
      "boolean cylinder: 1 took 0.0032830238342285156\n",
      "boolean cylinder: 2 took 0.0013718605041503906\n",
      "boolean cylinder: 3 took 0.0013539791107177734\n",
      "boolean cylinder: 4 took 0.004488945007324219\n",
      "boolean cylinder: 5 took 0.0012171268463134766\n",
      "boolean cylinder: 6 took 0.0026390552520751953\n",
      "boolean cylinder: 7 took 0.0012569427490234375\n",
      "boolean cylinder: 8 took 0.0013060569763183594\n",
      "boolean cylinder: 9 took 0.013536930084228516\n",
      "boolean cylinder: 10 took 0.01859569549560547\n",
      "boolean cylinder: 11 took 0.0020110607147216797\n",
      "boolean cylinder: 12 took 0.0019960403442382812\n",
      "boolean cylinder: 13 took 0.002022266387939453\n",
      "boolean cylinder: 14 took 0.061964988708496094\n",
      "boolean cylinder: 15 took 0.00833892822265625\n",
      "boolean cylinder: 16 took 0.0027599334716796875\n",
      "boolean cylinder: 17 took 0.003770112991333008\n",
      "boolean cylinder: 18 took 0.002665996551513672\n",
      "boolean cylinder: 19 took 0.0025970935821533203\n",
      "boolean cylinder: 20 took 0.0049169063568115234\n",
      "boolean cylinder: 21 took 0.00934290885925293\n",
      "boolean cylinder: 22 took 0.006361961364746094\n",
      "boolean cylinder: 23 took 0.023066043853759766\n",
      "boolean cylinder: 24 took 0.0029900074005126953\n",
      "boolean cylinder: 25 took 0.005466938018798828\n",
      "boolean cylinder: 26 took 0.0030019283294677734\n",
      "boolean cylinder: 27 took 0.002984285354614258\n",
      "boolean cylinder: 28 took 0.0029828548431396484\n",
      "boolean cylinder: 29 took 0.0030269622802734375\n",
      "boolean cylinder: 30 took 0.002978086471557617\n",
      "boolean cylinder: 31 took 0.005914926528930664\n",
      "boolean cylinder: 32 took 0.0035240650177001953\n",
      "boolean cylinder: 33 took 0.004870891571044922\n",
      "boolean cylinder: 34 took 0.0034601688385009766\n",
      "boolean cylinder: 35 took 0.0028328895568847656\n",
      "boolean cylinder: 36 took 0.0029060840606689453\n",
      "boolean cylinder: 37 took 0.002839803695678711\n",
      "boolean cylinder: 38 took 0.08063006401062012\n",
      "boolean cylinder: 39 took 0.00368499755859375\n",
      "Total time : 0.331763s\n"
     ]
    }
   ],
   "metadata": {}
  },
  {
   "cell_type": "code",
   "execution_count": 6,
   "source": [
    "shape"
   ],
   "outputs": [
    {
     "output_type": "execute_result",
     "data": {
      "text/plain": [
       "<class 'TopoDS_Compound'>"
      ]
     },
     "metadata": {},
     "execution_count": 6
    }
   ],
   "metadata": {}
  },
  {
   "cell_type": "code",
   "execution_count": 8,
   "source": [
    "renderer.DisplayShape(shape, render_edges=True, topo_level=\"default\", shape_color=\"#abdda4\", update=True)"
   ],
   "outputs": [
    {
     "output_type": "display_data",
     "data": {
      "application/vnd.jupyter.widget-view+json": {
       "version_major": 2,
       "version_minor": 0,
       "model_id": "bedf82a6e0ac478cabcfc8dd04884d28"
      },
      "text/plain": [
       "HBox(children=(VBox(children=(HBox(children=(Checkbox(value=True, description='Axes', layout=Layout(height='au…"
      ]
     },
     "metadata": {}
    }
   ],
   "metadata": {}
  }
 ],
 "metadata": {
  "orig_nbformat": 4,
  "language_info": {
   "name": "python",
   "version": "3.7.10",
   "mimetype": "text/x-python",
   "codemirror_mode": {
    "name": "ipython",
    "version": 3
   },
   "pygments_lexer": "ipython3",
   "nbconvert_exporter": "python",
   "file_extension": ".py"
  },
  "kernelspec": {
   "name": "python3",
   "display_name": "Python 3.7.10 64-bit ('udtools': conda)"
  },
  "interpreter": {
   "hash": "5a6fd4cd8f241e15e8045bc32a24166368fabecc1f13353d1f1b7a9900b172b8"
  }
 },
 "nbformat": 4,
 "nbformat_minor": 2
}