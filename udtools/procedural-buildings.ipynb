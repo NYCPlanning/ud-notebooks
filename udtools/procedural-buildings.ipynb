{
 "cells": [
  {
   "cell_type": "markdown",
   "id": "2aeb4a43-bda1-4e1e-b629-151a478192f2",
   "metadata": {},
   "source": [
    "# Procedural Modeling of Buildings\n",
    "\n"
   ]
  },
  {
   "cell_type": "code",
   "execution_count": 1,
   "id": "ad07159b-4301-4fb7-91ce-3be8c79f37f9",
   "metadata": {},
   "outputs": [],
   "source": [
    "import os\n",
    "import sys\n",
    "import time\n",
    "import pickle"
   ]
  },
  {
   "cell_type": "code",
   "execution_count": 2,
   "id": "7de274ae-36f8-499b-8b33-1fb95bb2409c",
   "metadata": {},
   "outputs": [],
   "source": [
    "# add udtools library to path\n",
    "home_dir = os.environ.get('HOME')\n",
    "udtools_module_path = os.path.join(home_dir, 'git', 'ud-tools-core', 'udtools')\n",
    "\n",
    "if udtools_module_path not in sys.path:\n",
    "  sys.path.append(udtools_module_path)"
   ]
  },
  {
   "cell_type": "code",
   "execution_count": 3,
   "id": "e95b1cf7-86bc-441a-9b68-a553004b84ce",
   "metadata": {},
   "outputs": [],
   "source": [
    "import ipywidgets as widgets\n",
    "\n",
    "# OCC/pythonocc-core imports\n",
    "from OCC.Display.WebGl.jupyter_renderer import JupyterRenderer\n",
    "\n",
    "# udtools imports\n",
    "from archtools.geometry.boolean import diff\n",
    "from archtools.geometry.common import get_faces\n",
    "from archtools.material.color import random_color\n",
    "from nyczoning.zoninglot import ZoningLot\n",
    "from nyczoning.geometry import build_yard_cutter\n",
    "from nyclanduse.site import Site\n",
    "from nyclanduse.scenario import Scenario\n",
    "from nyclanduse.study import Study"
   ]
  },
  {
   "cell_type": "code",
   "execution_count": 4,
   "id": "3c29f6d8-0c0d-4035-8783-e5709ec83b7f",
   "metadata": {},
   "outputs": [],
   "source": [
    "# load a zoning lot, this will have an underlying boundary and envelope\n",
    "with open('./assets/20210928_zl.pickle', 'rb') as f:\n",
    "    zl = pickle.load(f)"
   ]
  },
  {
   "cell_type": "code",
   "execution_count": 5,
   "id": "2424e671-18cf-4027-8c53-b868788d5845",
   "metadata": {
    "scrolled": true,
    "tags": []
   },
   "outputs": [
    {
     "data": {
      "application/vnd.jupyter.widget-view+json": {
       "model_id": "e50588d610844c6aac24e308c20e36e0",
       "version_major": 2,
       "version_minor": 0
      },
      "text/plain": [
       "HBox(children=(VBox(children=(HBox(children=(Checkbox(value=True, description='Axes', layout=Layout(height='au…"
      ]
     },
     "metadata": {},
     "output_type": "display_data"
    }
   ],
   "source": [
    "# here's what we've got:\n",
    "renderer2 = JupyterRenderer()\n",
    "renderer2.DisplayShape(zl.geom, render_edges=True, topo_level=\"default\", shape_color=\"#abdda4\", update=True)"
   ]
  },
  {
   "cell_type": "code",
   "execution_count": 6,
   "id": "7bbff975-af8c-477c-b96c-f38fec1525fa",
   "metadata": {
    "tags": []
   },
   "outputs": [],
   "source": [
    "# render the envelope as individual faces by color:\n",
    "faces = get_faces(zl.envelope)\n",
    "\n",
    "for f in faces:\n",
    "    renderer2.DisplayShape(f, shape_color=random_color())\n",
    "    time.sleep(0.25)"
   ]
  },
  {
   "cell_type": "markdown",
   "id": "1a4edbac-3da7-4f34-89a5-6eb678978b30",
   "metadata": {},
   "source": [
    "## Classified Faces from Envelope\n",
    "\n",
    "Create a `BuildingEnvelope` class to get classified faces and edges from the zoning envelope. Some issues/questions that have come up through the development of this:\n",
    "\n",
    "- How does Orientation and Closed-ness work in OCC? It was initially unclear if the `TopoDS_Compound` object returned by the zoning lot generator is oriented correctly. The shape itself returns 0 when Closed() is called, which at first seems to mean \"not closed\" but apparently actually returns the result of BRepCheck_NoError so it really means the Shape is free of errors (see [this](https://dev.opencascade.org/content/shell-closedness)).\n",
    "- Using ShapeFix, using the underlying Shell or Solid in place of the original Compound, and other methods for ensuring correct orientation of faces has no effect on the result.\n",
    "- The main issue turned out to be that in OpenCASCADE the orientations of faces and their underlying surfaces can be different, since the face orientation os a product of the direction of the wires that define its boundary, and that orientation depends on connectivity with the shape as a whole rather than underlying geometry. For discussion see [this blog post series](https://opencascade.blogspot.com/2009/02/continued.html) The `face_normal` function in `archtools` was edited to take this fact into account and now works as expected."
   ]
  },
  {
   "cell_type": "markdown",
   "id": "b93ca04a-c4fe-45b8-8214-18bfc1dfb972",
   "metadata": {},
   "source": [
    "The `classify_faces` method of a `BuildingEnvelope` iterates over the faces in the provided Shape and returns a dictionary of tagged faces."
   ]
  },
  {
   "cell_type": "code",
   "execution_count": 7,
   "id": "04997304",
   "metadata": {},
   "outputs": [],
   "source": [
    "from archtools.building.envelope import BuildingEnvelope"
   ]
  },
  {
   "cell_type": "code",
   "execution_count": 8,
   "id": "6268a055",
   "metadata": {},
   "outputs": [
    {
     "data": {
      "text/plain": [
       "{'belly': [[<class 'TopoDS_Face'>, False]],\n",
       " 'facade': [[<class 'TopoDS_Face'>, True],\n",
       "  [<class 'TopoDS_Face'>, True],\n",
       "  [<class 'TopoDS_Face'>, True],\n",
       "  [<class 'TopoDS_Face'>, True],\n",
       "  [<class 'TopoDS_Face'>, False],\n",
       "  [<class 'TopoDS_Face'>, False]],\n",
       " 'roof': [[<class 'TopoDS_Face'>, False],\n",
       "  [<class 'TopoDS_Face'>, False],\n",
       "  [<class 'TopoDS_Face'>, False]]}"
      ]
     },
     "execution_count": 8,
     "metadata": {},
     "output_type": "execute_result"
    }
   ],
   "source": [
    "envelope = BuildingEnvelope(zl.envelope)\n",
    "envelope.lot = zl\n",
    "faces_classed = envelope.classify_faces()\n",
    "faces_classed"
   ]
  },
  {
   "cell_type": "code",
   "execution_count": 9,
   "id": "86a17fa6",
   "metadata": {
    "tags": []
   },
   "outputs": [
    {
     "data": {
      "application/vnd.jupyter.widget-view+json": {
       "model_id": "883ce0bec27042e89e687774b3fc0409",
       "version_major": 2,
       "version_minor": 0
      },
      "text/plain": [
       "HBox(children=(VBox(children=(HBox(children=(Checkbox(value=True, description='Axes', layout=Layout(height='au…"
      ]
     },
     "metadata": {},
     "output_type": "display_data"
    }
   ],
   "source": [
    "renderer3 = JupyterRenderer()\n",
    "renderer3.DisplayShape(zl.geom, render_edges=True, topo_level=\"default\", shape_color=\"#abdda4\", update=True)"
   ]
  },
  {
   "cell_type": "code",
   "execution_count": 10,
   "id": "c2a62b61",
   "metadata": {
    "tags": []
   },
   "outputs": [],
   "source": [
    "for f in faces_classed['facade']:\n",
    "    if f[1]:\n",
    "        renderer3.DisplayShape(f[0], shape_color='#e6d3a5')\n",
    "    else:\n",
    "        renderer3.DisplayShape(f[0], shape_color='#dbb69e')\n",
    "    time.sleep(0.25)"
   ]
  },
  {
   "cell_type": "code",
   "execution_count": 11,
   "id": "b276ee10",
   "metadata": {},
   "outputs": [],
   "source": [
    "for f in faces_classed['roof']:\n",
    "    renderer3.DisplayShape(f[0], shape_color='#5e5b5a')\n",
    "    time.sleep(0.25)"
   ]
  },
  {
   "cell_type": "code",
   "execution_count": 12,
   "id": "c24a7719",
   "metadata": {},
   "outputs": [],
   "source": [
    "for f in faces_classed['belly']:\n",
    "    renderer3.DisplayShape(f[0], shape_color='#ff0000')\n",
    "    time.sleep(0.25)"
   ]
  },
  {
   "cell_type": "code",
   "execution_count": 13,
   "id": "64e50509-7e38-4c64-b3d4-5d916e3fbd26",
   "metadata": {},
   "outputs": [],
   "source": [
    "###"
   ]
  },
  {
   "cell_type": "code",
   "execution_count": 14,
   "id": "7211ceaf-7e5e-44c8-b51f-013b1c17887f",
   "metadata": {},
   "outputs": [],
   "source": [
    "from archtools.geometry.face import face_centroid\n",
    "from archtools.geometry.wire import to_curve_from_vertices\n",
    "from archtools.geometry.curve import pt_on_curve"
   ]
  },
  {
   "cell_type": "code",
   "execution_count": 15,
   "id": "8fc0c5b3-1488-4fb9-a7fd-f5810c70b7c0",
   "metadata": {},
   "outputs": [],
   "source": [
    "bounds_curve = to_curve_from_vertices(zl.geom)\n",
    "face_pt = face_centroid(faces_classed['roof'][0][0])"
   ]
  },
  {
   "cell_type": "code",
   "execution_count": 16,
   "id": "810595a0-80ac-4c31-aff1-6f8aee9f08d2",
   "metadata": {},
   "outputs": [
    {
     "data": {
      "text/plain": [
       "<class 'gp_Pnt'>"
      ]
     },
     "execution_count": 16,
     "metadata": {},
     "output_type": "execute_result"
    }
   ],
   "source": [
    "face_pt"
   ]
  },
  {
   "cell_type": "code",
   "execution_count": 17,
   "id": "f6c1b7ab-a34b-4bd1-8304-321f5ff8b025",
   "metadata": {},
   "outputs": [
    {
     "data": {
      "text/plain": [
       "True"
      ]
     },
     "execution_count": 17,
     "metadata": {},
     "output_type": "execute_result"
    }
   ],
   "source": [
    "pt_on_curve(face_pt, bounds_curve, 8)"
   ]
  },
  {
   "cell_type": "markdown",
   "id": "30c1dd46",
   "metadata": {},
   "source": [
    "## Get select edges/wires for parapets, fences, cornices and stoops\n",
    "\n",
    "With conditions and trimmed by intersections, would allow to get basis curves for parapets, fences etc. See \"get faces belonging to an edge\" on OpenCASCADE forums."
   ]
  },
  {
   "cell_type": "code",
   "execution_count": 18,
   "id": "5df28067",
   "metadata": {},
   "outputs": [],
   "source": [
    "# roof_edges = get_edges(roof)\n",
    "# for e in roof_edges:\n",
    "#   print(e)"
   ]
  },
  {
   "cell_type": "code",
   "execution_count": 19,
   "id": "b6349276",
   "metadata": {},
   "outputs": [
    {
     "ename": "NameError",
     "evalue": "name 'roof' is not defined",
     "output_type": "error",
     "traceback": [
      "\u001b[0;31m---------------------------------------------------------------------------\u001b[0m",
      "\u001b[0;31mNameError\u001b[0m                                 Traceback (most recent call last)",
      "\u001b[0;32m/var/folders/n_/9cww3c5d7yn0_h7gq498fwfw0000gq/T/ipykernel_71953/3886502326.py\u001b[0m in \u001b[0;36m<module>\u001b[0;34m\u001b[0m\n\u001b[1;32m      7\u001b[0m \u001b[0;34m\u001b[0m\u001b[0m\n\u001b[1;32m      8\u001b[0m \u001b[0medge_face_map\u001b[0m \u001b[0;34m=\u001b[0m \u001b[0mTopTools_IndexedDataMapOfShapeListOfShape\u001b[0m\u001b[0;34m(\u001b[0m\u001b[0;34m)\u001b[0m\u001b[0;34m\u001b[0m\u001b[0;34m\u001b[0m\u001b[0m\n\u001b[0;32m----> 9\u001b[0;31m \u001b[0mtopexp_MapShapesAndAncestors\u001b[0m\u001b[0;34m(\u001b[0m\u001b[0mroof\u001b[0m\u001b[0;34m,\u001b[0m \u001b[0mTopAbs_EDGE\u001b[0m\u001b[0;34m,\u001b[0m \u001b[0mTopAbs_FACE\u001b[0m\u001b[0;34m,\u001b[0m \u001b[0medge_face_map\u001b[0m\u001b[0;34m)\u001b[0m\u001b[0;34m\u001b[0m\u001b[0;34m\u001b[0m\u001b[0m\n\u001b[0m\u001b[1;32m     10\u001b[0m \u001b[0medge_face_map\u001b[0m\u001b[0;34m\u001b[0m\u001b[0;34m\u001b[0m\u001b[0m\n\u001b[1;32m     11\u001b[0m \u001b[0;34m\u001b[0m\u001b[0m\n",
      "\u001b[0;31mNameError\u001b[0m: name 'roof' is not defined"
     ]
    }
   ],
   "source": [
    "from OCC.Core.TopExp import topexp_MapShapesAndAncestors\n",
    "from OCC.Core.TopTools import (\n",
    "  TopTools_IndexedDataMapOfShapeListOfShape,\n",
    ")\n",
    "from OCC.Core.TopOpeBRepBuild import TopOpeBRepBuild_Tools\n",
    "from OCC.Core.TopAbs import TopAbs_EDGE, TopAbs_FACE\n",
    "\n",
    "edge_face_map = TopTools_IndexedDataMapOfShapeListOfShape()\n",
    "topexp_MapShapesAndAncestors(roof, TopAbs_EDGE, TopAbs_FACE, edge_face_map)\n",
    "edge_face_map\n",
    "\n",
    "#     TopExp\n",
    "#       MapShapesAndAncestors(shell, TopAbs_EDGE,\n",
    "#             TopAbs_FACE, edgeFaceMap);"
   ]
  },
  {
   "cell_type": "code",
   "execution_count": null,
   "id": "f3916e4f",
   "metadata": {},
   "outputs": [],
   "source": [
    "edge_face_map.Size() # size is 4\n",
    "# list_at_1 = edge_face_map.FindFromIndex(1) # indexes are 1-indexed\n",
    "# list_at_1.Size() this is 1\n",
    "\n",
    "# list_at_ = edge_face_map.FindKey"
   ]
  },
  {
   "cell_type": "markdown",
   "id": "815d2bfc-f0e5-4c99-89f2-ef8323bab014",
   "metadata": {},
   "source": [
    "## Generate facade detail on faces as a shell and replace original\n",
    "\n",
    "\n"
   ]
  },
  {
   "cell_type": "markdown",
   "id": "87c09024",
   "metadata": {},
   "source": [
    "## Checklist\n",
    "\n",
    "- [x] ensure Solid orientation, will fix face orientation and directional classification? *turns out this was actually an issue with interpretation of the normals, rather than a problem with the original Shape, thankfully. fixed.*\n",
    "- [ ] get_edge methods for parapets, fences\n",
    "- [ ] draw facades\n",
    "- [ ] revisit \"Facade Markup Language\" idea, consider Tidalcycles and other livecoding languages as precedent\n",
    "- [ ] next notebook: procedural streets?"
   ]
  }
 ],
 "metadata": {
  "kernelspec": {
   "display_name": "Python 3 (ipykernel)",
   "language": "python",
   "name": "python3"
  },
  "language_info": {
   "codemirror_mode": {
    "name": "ipython",
    "version": 3
   },
   "file_extension": ".py",
   "mimetype": "text/x-python",
   "name": "python",
   "nbconvert_exporter": "python",
   "pygments_lexer": "ipython3",
   "version": "3.7.10"
  }
 },
 "nbformat": 4,
 "nbformat_minor": 5
}
