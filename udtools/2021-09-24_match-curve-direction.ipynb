{
 "cells": [
  {
   "cell_type": "markdown",
   "id": "a0b742f0-8493-4a4c-9fb6-a7b72cddef79",
   "metadata": {},
   "source": [
    "# Match Curve Direction\n",
    "\n",
    "2021-09-24\n",
    "\n",
    "This notebook outlines efforts to refine `match_curve_direction` function used to ensure consistent offset directions for lot line cutters. Here's what we're dealing with:\n",
    "\n",
    "![](./assets/2021-09-24_curve-direction-testlot.png)"
   ]
  },
  {
   "cell_type": "code",
   "execution_count": 1,
   "id": "9c640c0d-cc07-4005-ab85-c354d1a36d8d",
   "metadata": {},
   "outputs": [],
   "source": [
    "import os\n",
    "import sys\n",
    "import pickle"
   ]
  },
  {
   "cell_type": "code",
   "execution_count": 2,
   "id": "28ecdf8e-b574-40a0-a05d-9833e2d3fcdf",
   "metadata": {},
   "outputs": [],
   "source": [
    "# add udtools library to path\n",
    "home_dir = os.environ.get('HOME')\n",
    "udtools_module_path = os.path.join(home_dir, 'git', 'ud-tools-core', 'udtools')\n",
    "\n",
    "if udtools_module_path not in sys.path:\n",
    "  sys.path.append(udtools_module_path)"
   ]
  },
  {
   "cell_type": "code",
   "execution_count": 14,
   "id": "a89cc9d9-3863-4c41-b38c-03faa61db0af",
   "metadata": {},
   "outputs": [],
   "source": [
    "from OCC.Core.gp import gp_Pnt, gp_Vec, gp_Dir\n",
    "from OCC.Core.GeomAPI import geomapi_To2d\n",
    "from OCC.Core.BRep import BRep_Tool\n",
    "from OCC.Core.BRepAdaptor import BRepAdaptor_Curve, BRepAdaptor_CompCurve\n",
    "from OCC.Core.BRepBuilderAPI import BRepBuilderAPI_MakeEdge, BRepBuilderAPI_MakeWire\n",
    "\n",
    "from archtools.geometry.common import get_edges, get_vertices\n",
    "from archtools.geometry.conversion import wire_to_curve\n",
    "from archtools.geometry.edge import get_endpoints, edge_to_wire\n",
    "from archtools.geometry.reference import world_xy\n",
    "from archtools.geometry.wire import (\n",
    "  is_ccw, \n",
    "  get_vertices as get_wire_vertices,\n",
    "  to_curve_from_vertices\n",
    ") \n",
    "from archtools.connectors.wkt import coords_to_curve, coords_to_edge"
   ]
  },
  {
   "cell_type": "code",
   "execution_count": 4,
   "id": "e46bda8c-f46a-4469-8035-30211756d6f9",
   "metadata": {},
   "outputs": [],
   "source": [
    "# load test geoms, saved from zoninglot notebook\n",
    "# with open('./assets/20210921_edge850.pickle', 'rb') as f:\n",
    "#   edge = pickle.load(f)\n",
    "\n",
    "with open('./assets/20210921_edge105.pickle', 'rb') as f:\n",
    "  edge = pickle.load(f)\n",
    "\n",
    "with open('./assets/20210921_bounds2022850130.pickle', 'rb') as f:\n",
    "  bounds = pickle.load(f)"
   ]
  },
  {
   "cell_type": "code",
   "execution_count": 9,
   "id": "93d955d0-a4d7-4fe8-afd4-0dc748c3de0f",
   "metadata": {},
   "outputs": [],
   "source": [
    "# copied from build_yard_cutter\n",
    "edge_aswire = edge_to_wire(edge)\n",
    "edge_curve = to_curve_from_vertices(edge_aswire)\n",
    "bounds_curve = to_curve_from_vertices(bounds)"
   ]
  },
  {
   "cell_type": "markdown",
   "id": "797e393a-ca55-463a-8fba-5743440621d7",
   "metadata": {},
   "source": [
    "Currently the algorighm works like so: first, gets first derivative at the middle parameter (0.5) of c1 (`edge_curve`), giving midpoint and tangent vector. It also gets start and endpoints.\n",
    "\n",
    "For c2 (`bounds_curve`) it gets Knots, makes variables to track midpoint, tangent and tangent as direction, then loops over segments defined as spans between knots (i.e. from knot 1 to knot 2... note they are 1-indexed)..."
   ]
  },
  {
   "cell_type": "code",
   "execution_count": 15,
   "id": "448197db-6264-4b77-b6df-700d5902a79b",
   "metadata": {},
   "outputs": [],
   "source": [
    "c2_mid = gp_Pnt()\n",
    "c2_tan = gp_Vec()\n",
    "c2_dir = gp_Dir()"
   ]
  },
  {
   "cell_type": "code",
   "execution_count": 19,
   "id": "640cbe64-cbd4-4b46-9142-83d886745118",
   "metadata": {},
   "outputs": [
    {
     "data": {
      "text/plain": [
       "1.0"
      ]
     },
     "execution_count": 19,
     "metadata": {},
     "output_type": "execute_result"
    }
   ],
   "source": [
    "# because Knots are 1-indexed, this will fail:\n",
    "# bounds_curve.Knot(0)\n",
    "# but this won't: \n",
    "bounds_curve.Knot(5)"
   ]
  },
  {
   "cell_type": "code",
   "execution_count": 20,
   "id": "5512b758-9525-4489-b27b-953fd951cc0f",
   "metadata": {},
   "outputs": [],
   "source": [
    "# LocalD1 won't throw the same error, though,\n",
    "# if you try to feed it Knots 0 to 1 as a span:\n",
    "bounds_curve.LocalD1(0.5, 0, 1, c2_mid, c2_tan)"
   ]
  },
  {
   "cell_type": "markdown",
   "id": "b28f2ab7-da2e-47d8-82af-4a33fb024f14",
   "metadata": {},
   "source": [
    "In the current algorithm, the for loop is going from 0 to knotcount - 1. It should be from 1 to knotcount instead. This error means the algorithm will work and throw no errors but skip the last segment in each curve so it will fail to correctly orient the edge curve if it aligns with the last segment.\n",
    "\n",
    "This seems to tentatively fix it, however now the offset direction is ultimately conditioned on the orientation of the bounding curve, need to verify this is CCW at some point.\n",
    "\n",
    "See `archtools` e01d45e\n",
    "\n"
   ]
  }
 ],
 "metadata": {
  "kernelspec": {
   "display_name": "Python 3 (ipykernel)",
   "language": "python",
   "name": "python3"
  },
  "language_info": {
   "codemirror_mode": {
    "name": "ipython",
    "version": 3
   },
   "file_extension": ".py",
   "mimetype": "text/x-python",
   "name": "python",
   "nbconvert_exporter": "python",
   "pygments_lexer": "ipython3",
   "version": "3.7.10"
  }
 },
 "nbformat": 4,
 "nbformat_minor": 5
}
