{
 "cells": [
  {
   "cell_type": "markdown",
   "id": "a0b742f0-8493-4a4c-9fb6-a7b72cddef79",
   "metadata": {},
   "source": [
    "# Rewrite Zoning Lot Yard Cutter Geometry Logic\n",
    "\n",
    "2021-09-21\n",
    "\n",
    "This notebook outlines efforts to improve height/setback cutters used for zoning envelope creation."
   ]
  },
  {
   "cell_type": "code",
   "execution_count": 1,
   "id": "9c640c0d-cc07-4005-ab85-c354d1a36d8d",
   "metadata": {},
   "outputs": [],
   "source": [
    "import os\n",
    "import sys\n",
    "import pickle"
   ]
  },
  {
   "cell_type": "code",
   "execution_count": 2,
   "id": "28ecdf8e-b574-40a0-a05d-9833e2d3fcdf",
   "metadata": {},
   "outputs": [],
   "source": [
    "# add udtools library to path\n",
    "home_dir = os.environ.get('HOME')\n",
    "udtools_module_path = os.path.join(home_dir, 'git', 'ud-tools-core', 'udtools')\n",
    "\n",
    "if udtools_module_path not in sys.path:\n",
    "  sys.path.append(udtools_module_path)"
   ]
  },
  {
   "cell_type": "code",
   "execution_count": 3,
   "id": "a89cc9d9-3863-4c41-b38c-03faa61db0af",
   "metadata": {},
   "outputs": [],
   "source": [
    "from archtools.geometry.common import get_edges, get_vertices\n",
    "from archtools.geometry.edge import get_endpoints\n",
    "from archtools.geometry.reference import world_xy\n",
    "from OCC.Core.GeomAPI import geomapi_To2d\n",
    "from OCC.Core.BRep import BRep_Tool\n",
    "from archtools.geometry.conversion import wire_to_curve\n",
    "from archtools.geometry.wire import is_ccw, get_vertices as get_wire_vertices\n",
    "from archtools.connectors.wkt import coords_to_curve, coords_to_edge\n",
    "from OCC.Core.BRepAdaptor import BRepAdaptor_Curve, BRepAdaptor_CompCurve\n",
    "from OCC.Core.BRepBuilderAPI import BRepBuilderAPI_MakeEdge, BRepBuilderAPI_MakeWire"
   ]
  },
  {
   "cell_type": "code",
   "execution_count": 4,
   "id": "e46bda8c-f46a-4469-8035-30211756d6f9",
   "metadata": {},
   "outputs": [],
   "source": [
    "# load test geoms, saved from zoninglot notebook 2021-09-21\n",
    "# with open('./assets/20210921_edge850.pickle', 'rb') as f:\n",
    "#   edge = pickle.load(f)\n",
    "  \n",
    "# with open('./assets/20210921_edge849.pickle', 'rb') as f:\n",
    "#   edge = pickle.load(f)\n",
    "\n",
    "# with open('./assets/20210921_edge3192.pickle', 'rb') as f:\n",
    "#   edge = pickle.load(f)\n",
    "\n",
    "with open('./assets/20210921_edge846.pickle', 'rb') as f:\n",
    "  edge = pickle.load(f)\n",
    "\n",
    "# with open('./assets/20210921_edge105.pickle', 'rb') as f:\n",
    "#   edge = pickle.load(f)\n",
    "  \n",
    "# with open('./assets/20210921_edge106.pickle', 'rb') as f:\n",
    "#   edge = pickle.load(f)\n",
    "\n",
    "with open('./assets/20210921_bounds202285.pickle', 'rb') as f:\n",
    "  bounds = pickle.load(f)"
   ]
  },
  {
   "cell_type": "code",
   "execution_count": 5,
   "id": "93d955d0-a4d7-4fe8-afd4-0dc748c3de0f",
   "metadata": {},
   "outputs": [],
   "source": [
    "edge_pnts = get_vertices(edge, topo=False)"
   ]
  },
  {
   "cell_type": "code",
   "execution_count": 6,
   "id": "3f2632e9-8aed-4194-939c-d007111c611d",
   "metadata": {},
   "outputs": [
    {
     "data": {
      "text/plain": [
       "[(-1722.04851775966, 513.887860742863, 0.0),\n",
       " (-1714.42912631831, 509.663799730595, 0.0)]"
      ]
     },
     "execution_count": 6,
     "metadata": {},
     "output_type": "execute_result"
    }
   ],
   "source": [
    "edge_endpoints = [p.Coord() for p in edge_pnts]\n",
    "edge_endpoints"
   ]
  },
  {
   "cell_type": "code",
   "execution_count": 7,
   "id": "87c52aa9-6c00-4f64-b0e3-0bc474498c6b",
   "metadata": {},
   "outputs": [],
   "source": [
    "# get edge as curve\n",
    "# method 1: BRep_Tool\n",
    "# edge_astoolcurve = BRep_Tool.Curve(edge)[0]\n",
    "# edge_as2dtoolcurve = geomapi_To2d(edge_astoolcurve, world_xy) \n",
    "# works but is in a different coordinate system?\n",
    "\n",
    "# method 2: BRepAdaptor_Curve\n",
    "# edge_ascurve = BRepAdaptor_Curve(edge)\n",
    "#edge_as2dcurve = geomapi_To2d(edge_ascurve, world_xy) # doesn't work\n",
    "\n",
    "# method 3:\n",
    "edge_aswire = BRepBuilderAPI_MakeWire(edge).Shape()\n",
    "coords = [p.Coord()  for p in get_wire_vertices(edge_aswire, topo=False)]\n",
    "edge_ascurve = coords_to_curve(coords)"
   ]
  },
  {
   "cell_type": "markdown",
   "id": "50c597ca-df57-4981-8315-8ef16352312a",
   "metadata": {},
   "source": [
    "Seems like `geomapi_To2d` isn't compatible with the result of `BRepAdaptor_Curve`. The `BRep_Tool` approach above seems to not return a valid curve for some reason (start/end parameters are positve/negative infinity). Is it possible to rewrite `curve_fit_to_bounds` to use 3d curves instead of 2d?"
   ]
  },
  {
   "cell_type": "code",
   "execution_count": 8,
   "id": "59512616-13b1-48f7-842e-6231eafbfda7",
   "metadata": {
    "tags": []
   },
   "outputs": [
    {
     "data": {
      "text/plain": [
       "[(-1722.04851775966, 513.887860742863, 0.0),\n",
       " (-1714.42912631831, 509.663799730595, 0.0)]"
      ]
     },
     "execution_count": 8,
     "metadata": {},
     "output_type": "execute_result"
    }
   ],
   "source": [
    "ec = edge_ascurve\n",
    "curve_endparams = [ec.FirstParameter(), ec.LastParameter()]\n",
    "curve_endpoints = [ec.Value(p) for p in curve_endparams]\n",
    "curve_endpoint_coords = [p.Coord() for p in curve_endpoints]\n",
    "curve_endpoint_coords # should return same as edge_endpoints"
   ]
  },
  {
   "cell_type": "code",
   "execution_count": 9,
   "id": "e955c14e-bca9-4978-ad3f-681c30630e5a",
   "metadata": {
    "tags": []
   },
   "outputs": [],
   "source": [
    "# first and last params, 0, 21.4\n",
    "# ec.Value(30).Coord()\n",
    "# trimmed = ec.Trim(-10, 30, 0.1)"
   ]
  },
  {
   "cell_type": "markdown",
   "id": "8bff957a-5366-48d3-b11c-fd990a00e989",
   "metadata": {},
   "source": [
    "Looks good. Now look at the `bounds` Wire, see if we can verify that the curve equivalent can be reliably generated."
   ]
  },
  {
   "cell_type": "code",
   "execution_count": 10,
   "id": "462e137a-f843-46c4-9801-69de344b43a0",
   "metadata": {},
   "outputs": [
    {
     "data": {
      "text/plain": [
       "[(-1722.04851775966, 513.887860742863, 0.0),\n",
       " (-1672.43083339534, 602.703972784337, 0.0),\n",
       " (-1672.43083339534, 602.703972784337, 0.0),\n",
       " (-1654.90727191768, 592.968755689915, 0.0),\n",
       " (-1654.90727191768, 592.968755689915, 0.0),\n",
       " (-1636.18092447123, 582.565561262425, 0.0),\n",
       " (-1636.18092447123, 582.565561262425, 0.0),\n",
       " (-1685.78056484065, 493.781606165227, 0.0),\n",
       " (-1704.51608663402, 504.168402162846, 0.0),\n",
       " (-1685.78056484065, 493.781606165227, 0.0),\n",
       " (-1714.42912631831, 509.663799730595, 0.0),\n",
       " (-1704.51608663402, 504.168402162846, 0.0),\n",
       " (-1722.04851775966, 513.887860742863, 0.0),\n",
       " (-1714.42912631831, 509.663799730595, 0.0)]"
      ]
     },
     "execution_count": 10,
     "metadata": {},
     "output_type": "execute_result"
    }
   ],
   "source": [
    "# first, preview wire vertices as point coordinates\n",
    "bounds_pts = get_vertices(bounds, topo=False)\n",
    "bounds_coords = [p.Coord() for p in bounds_pts]\n",
    "bounds_coords"
   ]
  },
  {
   "cell_type": "markdown",
   "id": "6a533007-aba6-4380-98c0-6755150359b9",
   "metadata": {},
   "source": [
    "For reference:\n",
    "\n",
    "```wkt\n",
    "'POLYGON((-1636.18092447123 582.565561262425,-1654.90727191768 592.968755689915,-1672.43083339534 602.703972784337,-1722.04851775966 513.887860742863,-1714.42912631831 509.663799730595,-1704.51608663402 504.168402162846,-1685.78056484065 493.781606165227,-1636.18092447123 582.565561262425))'\n",
    "```\n",
    "\n",
    "Note this is the wkt boundary returned directly from PostGIS using `ST_ForcePolygonCCW` to enforce a counter-clockwise direction, which is what OCC uses as \"FORWARD\""
   ]
  },
  {
   "cell_type": "markdown",
   "id": "22f3009a-b644-4ef2-81bb-b449ddfa221f",
   "metadata": {},
   "source": [
    "This seems wrong, will it work to use `ShapeFix_Wire`"
   ]
  },
  {
   "cell_type": "markdown",
   "id": "692809ea-6dcc-4405-93e8-f545d2ebddf6",
   "metadata": {},
   "source": [
    "The orientation of our wire should be FORWARD by default, this is coded as 0 in python and means the wire direction is counter-clockwise. We can check this using the `is_ccw` function from `archtools.geometry.wire` internally, this checks if the wire is oriented correctly by making sure it has positive area."
   ]
  },
  {
   "cell_type": "code",
   "execution_count": 11,
   "id": "059a528e-92f9-41ba-b38e-8fec0484c6d6",
   "metadata": {},
   "outputs": [
    {
     "data": {
      "text/plain": [
       "0"
      ]
     },
     "execution_count": 11,
     "metadata": {},
     "output_type": "execute_result"
    }
   ],
   "source": [
    "bounds.Orientation() # should be 0"
   ]
  },
  {
   "cell_type": "code",
   "execution_count": 12,
   "id": "bd4e508e-4702-4674-9489-60e541ba0a17",
   "metadata": {},
   "outputs": [
    {
     "data": {
      "text/plain": [
       "True"
      ]
     },
     "execution_count": 12,
     "metadata": {},
     "output_type": "execute_result"
    }
   ],
   "source": [
    "# check orientation of the wire by area\n",
    "is_ccw(bounds)"
   ]
  },
  {
   "cell_type": "markdown",
   "id": "738bf643-ffcc-404c-a82c-f7d44a69b41b",
   "metadata": {},
   "source": [
    "In order to make use of available intersection methods available for OCC geometries, we need geometry equivalents of our Edge and Wire (both are topologies right now). The Edge → Curve case is more straightforward (see above) but Wire → Curve isn't so easy. A few possible methods:"
   ]
  },
  {
   "cell_type": "code",
   "execution_count": 13,
   "id": "8b63d0dd-c053-4222-8039-2284bca0f8d5",
   "metadata": {},
   "outputs": [
    {
     "data": {
      "text/plain": [
       "[(-1722.04851775966, 513.887860742863, 0.0),\n",
       " (-1672.43083339534, 602.703972784337, 0.0),\n",
       " (-1654.90727191768, 592.968755689915, 0.0),\n",
       " (-1636.18092447123, 582.565561262425, 0.0),\n",
       " (-1685.78056484065, 493.781606165227, 0.0),\n",
       " (-1704.51608663402, 504.168402162846, 0.0),\n",
       " (-1714.42912631831, 509.663799730595, 0.0),\n",
       " (-1722.04851775966, 513.887860742863, 0.0)]"
      ]
     },
     "execution_count": 13,
     "metadata": {},
     "output_type": "execute_result"
    }
   ],
   "source": [
    "[p.Coord() for p in get_wire_vertices(bounds, topo=False)]"
   ]
  },
  {
   "cell_type": "code",
   "execution_count": 14,
   "id": "4db64814-4762-469f-8396-886234fd6f9f",
   "metadata": {},
   "outputs": [],
   "source": [
    "# method 1: BRep_Tool\n",
    "# bounds_astoolcurve = BRep_Tool.Curve(bounds)[0] # won't work, BRep_Tool is for edges\n",
    "\n",
    "# method 2: BRepAdaptor_CompCurve\n",
    "# bounds_ascurve = BRepAdaptor_CompCurve(bounds) # compcurve, not curve\n",
    "# lets you get params etc but won't work in other algorithms\n",
    "\n",
    "# method 3: rebuild as new polygonal curve from vertices\n",
    "coords = [p.Coord()  for p in get_wire_vertices(bounds, topo=False)]\n",
    "bounds_ascurve = coords_to_curve(coords)"
   ]
  },
  {
   "cell_type": "code",
   "execution_count": 15,
   "id": "b7130085-ef1a-463d-9b40-3b99f48caf74",
   "metadata": {},
   "outputs": [],
   "source": [
    "# generalize this in a function\n",
    "def curve_from_wire_vertices(wire):\n",
    "  coords = [p.Coord()  for p in get_vertices(wire, topo=False)]\n",
    "  curve = coords_to_curve(coords)\n",
    "  return curve"
   ]
  },
  {
   "cell_type": "code",
   "execution_count": 16,
   "id": "2790df73-06c5-469d-b2bb-30115d5b1d28",
   "metadata": {},
   "outputs": [
    {
     "data": {
      "text/plain": [
       "[(-1722.04851775966, 513.887860742863, 0.0),\n",
       " (-1722.04851775966, 513.887860742863, 0.0)]"
      ]
     },
     "execution_count": 16,
     "metadata": {},
     "output_type": "execute_result"
    }
   ],
   "source": [
    "# and preview values along the generated curve\n",
    "bc = bounds_ascurve\n",
    "bounds_endparams = [bc.FirstParameter(), bc.LastParameter()]\n",
    "bounds_endpoints = [bc.Value(p) for p in bounds_endparams]\n",
    "bounds_endpoint_coords = [p.Coord() for p in bounds_endpoints]\n",
    "bounds_endpoint_coords # should return same as edge_endpoints above"
   ]
  },
  {
   "cell_type": "code",
   "execution_count": 17,
   "id": "878757cd-3047-45a4-84d9-e727be36bdd8",
   "metadata": {},
   "outputs": [
    {
     "data": {
      "text/plain": [
       "8"
      ]
     },
     "execution_count": 17,
     "metadata": {},
     "output_type": "execute_result"
    }
   ],
   "source": [
    "# start and endpoint are the same since it's a closed curve, but it looks OK\n",
    "# what about knots?\n",
    "bc.NbKnots()"
   ]
  },
  {
   "cell_type": "code",
   "execution_count": 18,
   "id": "806c071c-29e5-4d95-90dd-30e825530445",
   "metadata": {},
   "outputs": [
    {
     "data": {
      "text/plain": [
       "1.0"
      ]
     },
     "execution_count": 18,
     "metadata": {},
     "output_type": "execute_result"
    }
   ],
   "source": [
    "# should be parameterized from 0 to 1\n",
    "bc.FirstParameter()\n",
    "bc.LastParameter()"
   ]
  },
  {
   "cell_type": "code",
   "execution_count": 19,
   "id": "c013c5c0-caf6-45e1-bfbb-b3fe2004d8d0",
   "metadata": {},
   "outputs": [
    {
     "data": {
      "text/plain": [
       "(-1636.196965469247, 582.5744726436573, 0.0)"
      ]
     },
     "execution_count": 19,
     "metadata": {},
     "output_type": "execute_result"
    }
   ],
   "source": [
    "# check a point in the middle\n",
    "bc.Value(0.5).Coord()"
   ]
  },
  {
   "cell_type": "markdown",
   "id": "fb313194-686a-4a7f-9c6b-9e370b9d09cb",
   "metadata": {},
   "source": [
    "Now comes the tricky part, we want to make sure our functions to trim/extend an offset edge lying partially inside the bounding polygon to meet either edge are still working."
   ]
  },
  {
   "cell_type": "code",
   "execution_count": 20,
   "id": "9b6e15ab-5c88-40e3-b64e-c9434581b565",
   "metadata": {
    "tags": []
   },
   "outputs": [],
   "source": [
    "import math\n",
    "from OCC.Core.gp import gp_Pnt, gp_Vec, gp_Dir, gp_Ax1, gp_Pnt2d\n",
    "from OCC.Core.gce import gce_MakeLin\n",
    "from OCC.Core.GeomAPI import (\n",
    "  GeomAPI_ExtremaCurveCurve, \n",
    "  GeomAPI_ProjectPointOnCurve,\n",
    "  geomapi_To3d,\n",
    "  geomapi_To2d,\n",
    ")\n",
    "from OCC.Core.Geom2dAPI import Geom2dAPI_ExtremaCurveCurve, Geom2dAPI_InterCurveCurve\n",
    "from archtools.geometry.conversion import pts_to_curve, curve_to_wire\n",
    "from archtools.geometry.common import moved, get_vertices\n",
    "from archtools.geometry.reference import pos_z, world_xy\n",
    "from archtools.geometry.measure import area\n",
    "from archtools.geometry.curve import match_curve_direction\n",
    "from OCC.Core.Geom import Geom_Curve, Geom_OffsetCurve, Geom_Line\n",
    "from OCC.Core.Geom2d import Geom2d_OffsetCurve, Geom2d_Curve\n",
    "from OCC.Core.IntCurvesFace import IntCurvesFace_ShapeIntersector\n",
    "from OCC.Core.BRepExtrema import BRepExtrema_DistShapeShape\n",
    "from OCC.Core.BRepLib import BRepLib_MakeFace\n",
    "from OCC.Core.IntCurvesFace import IntCurvesFace_Intersector\n"
   ]
  },
  {
   "cell_type": "markdown",
   "id": "48915c70-34d4-4114-84ac-01168b191bfc",
   "metadata": {},
   "source": [
    "First offset the edge:"
   ]
  },
  {
   "cell_type": "code",
   "execution_count": 21,
   "id": "2100934a-6ab7-476a-8e17-f44e33d98318",
   "metadata": {},
   "outputs": [],
   "source": [
    "# this is potentially useful but easier to use curves\n",
    "# planar offset of an edge\n",
    "# def planar_offset(e, distance):\n",
    "#   ec = BRepAdaptor_Curve(e)\n",
    "#   p = [ec.FirstParameter(), ec.LastParameter()]\n",
    "#   p_mid = (p[0] + p[1] / 2)\n",
    "\n",
    "#   pnt = gp_Pnt()\n",
    "#   vec = gp_Vec()\n",
    "#   ec.D1(p_mid, pnt, vec)\n",
    "\n",
    "#   vec.Rotate(gp_Ax1(pnt, pos_z), -math.pi/2)\n",
    "#   vec.Multiply(distance)\n",
    "\n",
    "#   return moved(e, vec.Coord())"
   ]
  },
  {
   "cell_type": "code",
   "execution_count": 22,
   "id": "7971e8f9-e749-4cb0-aef8-4be2c6c2e696",
   "metadata": {},
   "outputs": [],
   "source": [
    "# wire_setback = planar_offset(edge, -30)\n",
    "# wire_setback_curve = curve_from_wire_vertices(wire_setback)"
   ]
  },
  {
   "cell_type": "code",
   "execution_count": 23,
   "id": "e93ce498-488a-40df-937f-1e10ea248afc",
   "metadata": {},
   "outputs": [
    {
     "name": "stdout",
     "output_type": "stream",
     "text": [
      "c1 was reversed!\n"
     ]
    }
   ],
   "source": [
    "# using curves...\n",
    "  # match_curve_direction(lotline_2d, bounds_2d, z=False)\n",
    "\n",
    "match_curve_direction(edge_ascurve, bounds_ascurve, z=True)\n",
    "\n",
    "pnt = gp_Pnt()\n",
    "vec = gp_Vec()\n",
    "edge_ascurve.D1(0.5, pnt, vec)\n",
    "# vec.Rotate(gp_Ax1(pnt, pos_z), -math.pi/2)\n",
    "# offset_dir = gp_Dir(vec)\n",
    "offset_dir = pos_z\n",
    "setback_curve = Geom_OffsetCurve(edge_ascurve, 5, offset_dir)\n",
    "# setback_curve = geomapi_To3d(setback_2dcurve, world_xy)\n",
    "\n",
    "wire_setback_curve = setback_curve\n",
    "wire_setback = curve_to_wire(wire_setback_curve)"
   ]
  },
  {
   "cell_type": "code",
   "execution_count": 24,
   "id": "ced62d15-809b-4a29-9938-f4b134ae2808",
   "metadata": {
    "tags": []
   },
   "outputs": [],
   "source": [
    "# def extended_point_at_param(c1, c2, param):\n",
    "#   \"\"\"Used internally by curve_fit_to_bounds.\n",
    "\n",
    "#   Tries to find and return point on c2 nearest to the provided param on c1.\n",
    "#   If unsuccessful, returns point at the param on c1.\n",
    "#   \"\"\"\n",
    "\n",
    "#   result = c1.Value(param)\n",
    "#   print(result.Coord())\n",
    "\n",
    "#   test_from = -1 if param == 0 else 0.5\n",
    "#   test_to = 0.5 if param == 0 else 2\n",
    "#   ex = GeomAPI_ExtremaCurveCurve(c1, c2, test_from, test_to, 0, 1)\n",
    "#   ex_count = ex.NbExtrema()\n",
    "\n",
    "#   if ex_count == 0: return result\n",
    "\n",
    "#   c1_pt = gp_Pnt() # these Pnt2d in 2d version\n",
    "#   c2_pt = gp_Pnt()\n",
    "#   ex.NearestPoints(c1_pt, c2_pt)\n",
    "#   print(c2_pt.Coord())\n",
    "#   print(ex_count)\n",
    "\n",
    "#   return c2_pt"
   ]
  },
  {
   "cell_type": "code",
   "execution_count": 25,
   "id": "716bf47d-10a9-439d-a2f4-cdf88c6e858d",
   "metadata": {},
   "outputs": [],
   "source": [
    "# alternate version of above using ProjectPointOnCurve\n",
    "# CURRENTLY USED\n",
    "def extended_point_at_param(c1, c2, param):\n",
    "  \"\"\"Tries to find nearest point on c2 to provided param on c1\"\"\"\n",
    "  p = c1.Value(param)\n",
    "  projector = GeomAPI_ProjectPointOnCurve(p, c2)\n",
    "  result = projector.NearestPoint()\n",
    "  return result"
   ]
  },
  {
   "cell_type": "code",
   "execution_count": 26,
   "id": "3a90eb3d-5b68-44a5-9852-07d0dde51064",
   "metadata": {},
   "outputs": [],
   "source": [
    "# another approach using Geom2dAPI_InterCurveCurve\n",
    "# to get intersections of edge as infinite line and curve\n",
    "\n",
    "def trim_curve_to_bounds_2(curve, bounds):\n",
    "  c = curve\n",
    "  ln = gce_MakeLin(c.Value(0), c.Value(1)).Value()\n",
    "  ln_curve = Geom_Line(ln)\n",
    "  \n",
    "  line_2d = geomapi_To2d(ln_curve, world_xy)\n",
    "  bounds_2d = geomapi_To2d(bounds_ascurve, world_xy)\n",
    "  \n",
    "  intersector = Geom2dAPI_InterCurveCurve(line_2d, bounds_2d, 0.001)\n",
    "  \n",
    "  npts = intersector.NbPoints()\n",
    "  pts = []\n",
    "\n",
    "  for i in range(1, npts + 1):\n",
    "    pt = intersector.Point(i)\n",
    "    pts.append(pt)\n",
    "    \n",
    "  # to do, sort from center of curve line?\n",
    "\n",
    "  coords = [p.Coord() for p in pts]\n",
    "  result = coords_to_curve([coords[0], coords[-1]], z=False)\n",
    "  result_3d = geomapi_To3d(result, world_xy)\n",
    "  \n",
    "#   result_asedge = BRepBuilderAPI_MakeEdge(result_3d).Shape()\n",
    "\n",
    "  return result_3d\n"
   ]
  },
  {
   "cell_type": "code",
   "execution_count": 27,
   "id": "005ce965-1b75-4a5d-93cb-d22b123993fe",
   "metadata": {},
   "outputs": [],
   "source": [
    "# ln = to_line_from_vertices(wire_setback)\n",
    "wsc = wire_setback_curve\n",
    "ln = gce_MakeLin(wsc.Value(0), wsc.Value(1)).Value()\n",
    "ln_curve = Geom_Line(ln)\n",
    "# ip = intersection_points(ln_curve, bounds_ascurve)"
   ]
  },
  {
   "cell_type": "code",
   "execution_count": 28,
   "id": "5af3a1a3-3d44-4b74-be09-33f3cff95944",
   "metadata": {},
   "outputs": [],
   "source": [
    "line_2d = geomapi_To2d(ln_curve, world_xy)\n",
    "bounds_2d = geomapi_To2d(bounds_ascurve, world_xy)"
   ]
  },
  {
   "cell_type": "code",
   "execution_count": 29,
   "id": "c1f18a18-2231-4b31-ae13-60d268b9fadc",
   "metadata": {},
   "outputs": [],
   "source": [
    "# line_2d.Value(-100000).Coord() # when the line gets converted it stops being infinite?\n",
    "# or at least gets reparameterized from 0 to 1, others are still available but may\n",
    "# need to be set manually on the intersector?\n",
    "# line_2d."
   ]
  },
  {
   "cell_type": "code",
   "execution_count": 30,
   "id": "8f8d9c62-b088-486d-a389-98730f78edc3",
   "metadata": {},
   "outputs": [],
   "source": [
    "intersector = Geom2dAPI_InterCurveCurve(line_2d, bounds_2d, 0.001)"
   ]
  },
  {
   "cell_type": "code",
   "execution_count": 31,
   "id": "ce6cef1b-5a43-48aa-8a37-6c3ec52d6b68",
   "metadata": {},
   "outputs": [
    {
     "name": "stdout",
     "output_type": "stream",
     "text": [
      "(-1683.3420389918494, 498.1465968758601)\n",
      "(-1719.6099541197455, 518.2529121199617)\n"
     ]
    }
   ],
   "source": [
    "npts = intersector.NbPoints()\n",
    "pts = []\n",
    "\n",
    "for i in range(1, npts + 1):\n",
    "  pt = intersector.Point(i)\n",
    "  pts.append(pt)\n",
    "  print(pt.Coord())\n",
    "#   if len(pts) == 0:\n",
    "#     pts.append(pt)\n",
    "#   elif min([pt.Distance(p) for p in pts]) < 1.0:\n",
    "#     pts.append(pt)"
   ]
  },
  {
   "cell_type": "code",
   "execution_count": 32,
   "id": "111dbe5d-3a77-44ec-bd1a-9314dba3d8d5",
   "metadata": {},
   "outputs": [],
   "source": [
    "coords = [p.Coord() for p in pts]\n",
    "coords\n",
    "result_edge = coords_to_edge(coords, z=False)"
   ]
  },
  {
   "cell_type": "code",
   "execution_count": 33,
   "id": "5d7e3278-1d8b-47e2-90ae-02cc7e5292de",
   "metadata": {},
   "outputs": [
    {
     "data": {
      "text/plain": [
       "<class 'TopoDS_Edge'>"
      ]
     },
     "execution_count": 33,
     "metadata": {},
     "output_type": "execute_result"
    }
   ],
   "source": [
    "result_edge"
   ]
  },
  {
   "cell_type": "code",
   "execution_count": 34,
   "id": "08520b31-40e7-44f4-9bba-32fb5631e765",
   "metadata": {},
   "outputs": [],
   "source": [
    "result = trim_curve_to_bounds_2(wire_setback_curve, bounds_ascurve)\n",
    "# works when returning edge"
   ]
  },
  {
   "cell_type": "code",
   "execution_count": 35,
   "id": "4d5362a4-0a2f-4991-a67a-d5acaee50a84",
   "metadata": {},
   "outputs": [
    {
     "data": {
      "text/plain": [
       "(-1719.6099541197455, 518.2529121199617, 0.0)"
      ]
     },
     "execution_count": 35,
     "metadata": {},
     "output_type": "execute_result"
    }
   ],
   "source": [
    "result.Value(1).Coord()"
   ]
  },
  {
   "cell_type": "code",
   "execution_count": 36,
   "id": "ac859ccf-3c01-4343-a282-1148edcafd6b",
   "metadata": {
    "tags": []
   },
   "outputs": [],
   "source": [
    "# copy of curve_fit_to_bounds from archtools.geometry\n",
    "def trim_curve_to_bounds(curve, bounds):\n",
    "  \"\"\"Where curve and bounds are coplanar 3D OCC Curves.\n",
    "  Bounds is expected to be closed and at least part of curve\n",
    "  needs to be within bounds. Attempts to trim/extend endpoints\n",
    "  of curve to meet bounds.\n",
    "  \"\"\"\n",
    "\n",
    "  start = curve.Value(0)\n",
    "  end = curve.Value(1)\n",
    "  start_ext = extended_point_at_param(curve, bounds, 0)\n",
    "  end_ext = extended_point_at_param(curve, bounds, 1)\n",
    "\n",
    "  print([p.Coord() for p in [start, start_ext, end, end_ext]])\n",
    "  # check that the start and end extension points aren't the same\n",
    "  ext_are_diff = start_ext.Distance(end_ext) > 1.0 # threshold of 1 ft apart?\n",
    "\n",
    "  if start.Distance(start_ext) > 0.0:\n",
    "    start = start_ext\n",
    "\n",
    "  if end.Distance(end_ext) > 0.0 and ext_are_diff:\n",
    "    end = end_ext\n",
    "\n",
    "  result = pts_to_curve([start, end], z=True)\n",
    "\n",
    "  return result"
   ]
  },
  {
   "cell_type": "code",
   "execution_count": 37,
   "id": "013f0b32-f6a0-4935-a4a8-21f1124d8f61",
   "metadata": {},
   "outputs": [
    {
     "name": "stdout",
     "output_type": "stream",
     "text": [
      "[(-1712.0048308849089, 514.0367611586881, 0.0), (-1714.42912631831, 509.663799730595, 0.0), (-1719.6242223262589, 518.2608221709562, 0.0), (-1719.6099800804784, 518.2528656500104, 0.0)]\n"
     ]
    }
   ],
   "source": [
    "# extended_point_at_param(edge_ascurve, bounds_ascurve, 0.0).Coord()\n",
    "trimmed = trim_curve_to_bounds(wire_setback_curve, bounds_ascurve)"
   ]
  },
  {
   "cell_type": "code",
   "execution_count": 38,
   "id": "b5f1971b-8d08-43b4-b36d-c6fce4cb36a3",
   "metadata": {},
   "outputs": [],
   "source": [
    "# def fit_to_bounds(edge, bounds):\n",
    "#   \"\"\"Extend/trim ends of edge to boundary wire.\"\"\"\n",
    "\n",
    "#   # if type(curve) == Geom2d_OffsetCurve:\n",
    "#   #   curve_2d = curve\n",
    "#   # else:\n",
    "#   #   curve_2d = geomapi_To2d(curve, world_xy)\n",
    "\n",
    "#   # start = curve_2d.Value(0)\n",
    "#   # end = curve_2d.Value(1)\n",
    "#   (e_0, e_1) = get_vertices(edge, topo=True)\n",
    "\n",
    "#   extrema = BRepExtrema_DistShapeShape()\n",
    "#   extrema.SetDeflection(20)\n",
    "#   extrema.LoadS1(edge)\n",
    "#   extrema.LoadS2(bounds)\n",
    "#   extrema.Perform()\n",
    "    \n",
    "#   return extrema.PointOnShape2(1)\n",
    "  \n",
    "#   start_ext = extrema_nearest_pt(curve, bounds, 0)\n",
    "#   end_ext = extrema_nearest_pt(curve, bounds, 1)\n",
    "\n",
    "#   for p in [start, start_ext, end, end_ext]:\n",
    "#     print(p.Coord())\n",
    "\n",
    "#   ext_are_diff = start_ext.Distance(end_ext) > 0.0\n",
    "\n",
    "#   if start.Distance(start_ext) > 0.0:\n",
    "#     start = start_ext\n",
    "\n",
    "#   if end.Distance(end_ext) > 0.0 and ext_are_diff:\n",
    "#     end = end_ext\n",
    "\n",
    "#   result_2d = pts_to_curve([start, end], z=False)\n",
    "  # result_3d = geomapi_To3d(result_2d, world_xy)\n",
    "\n",
    "#   return result_2d\n"
   ]
  },
  {
   "cell_type": "code",
   "execution_count": 39,
   "id": "133e5328-347d-4fb1-a542-65c8937bd8c0",
   "metadata": {},
   "outputs": [],
   "source": [
    "# edge as curve\n",
    "#ec\n",
    "\n",
    "# bounds as curve\n",
    "# edge"
   ]
  },
  {
   "cell_type": "code",
   "execution_count": 40,
   "id": "0d1aed24-01c7-4ea1-8702-efd4f1763805",
   "metadata": {},
   "outputs": [],
   "source": [
    "# check for intersections based on line and bounds as face\n",
    "# from archtools.geometry.edge import to_line_from_vertices\n",
    "# from archtools.geometry.common import get_vertices\n",
    "# from OCC.Core.gp import gp_Lin\n",
    "\n",
    "# def check_intersections(line, bounds):\n",
    "#   \"\"\"intersection of line and Wire bounds\"\"\"\n",
    "  \n",
    "#   face = BRepLib_MakeFace(bounds).Face()\n",
    "#   intersector = IntCurvesFace_Intersector(face, 0.1, True, False)\n",
    "#   intersector.Perform(ln, 0, float(\"+inf\"))\n",
    "#   face = intersector.Face()\n",
    "#   num_results = intersector.NbPnt()\n",
    "#   print(intersector.Transition(1))\n",
    "# #   intersector.SortResult()\n",
    "#   # where State is TopAbs_ON (on boundary of face)\n",
    "  \n",
    "#   return (face, ec, num_results, intersector.IsParallel())"
   ]
  },
  {
   "cell_type": "code",
   "execution_count": 41,
   "id": "fc77d6b1-e1ef-485d-86a7-faa276430380",
   "metadata": {},
   "outputs": [],
   "source": [
    "# ln = to_line_from_vertices(edge_aswire)\n",
    "# check_intersections(ln, bounds)"
   ]
  },
  {
   "cell_type": "markdown",
   "id": "1b910350-5441-4180-9dbd-13bb382cf351",
   "metadata": {},
   "source": [
    "`IntCurvesFace_Intersector` doesn't work if the line is parallel to the face."
   ]
  },
  {
   "cell_type": "code",
   "execution_count": 42,
   "id": "c40eab7f-1a66-48bb-960c-b112689f4a4e",
   "metadata": {},
   "outputs": [],
   "source": [
    "# # test on newly created arbitrary geoms\n",
    "# from OCC.Core.gce import gce_MakeLin\n",
    "# from archtools.connectors.wkt import coords_to_polygon\n",
    "# from archtools.geometry.common import get_vertices\n",
    "\n",
    "# poly_list = [\n",
    "#   (0, 0, 0),\n",
    "#   (2, 0, 0),\n",
    "#   (2, -1, 0),\n",
    "#   (0, -1, 0),\n",
    "#   (0, 0, 0)\n",
    "# ]\n",
    "# bounds = coords_to_polygon(poly_list)\n",
    "# ln = gce_MakeLin(gp_Pnt(1, 1, 0), gp_Pnt(1, -2, 0)).Value()\n",
    "\n",
    "# verts = get_vertices(bounds, topo=False)\n",
    "# coords = [v.Coord() for v in verts]\n",
    "# coords"
   ]
  },
  {
   "cell_type": "code",
   "execution_count": 43,
   "id": "7fd607eb-c395-496b-a589-e857265c6adb",
   "metadata": {},
   "outputs": [],
   "source": [
    "# ln_wire = BRepBuilderAPI_MakeEdge(ln, gp_Pnt(1, 1, 0), gp_Pnt(1, -2, 0)).Edge()"
   ]
  },
  {
   "cell_type": "code",
   "execution_count": 44,
   "id": "1902cb42-6f04-471a-a1a6-8169eb273f0b",
   "metadata": {},
   "outputs": [],
   "source": [
    "# (f, l, num) = fit_to_bounds(ln, bounds)\n",
    "# num"
   ]
  },
  {
   "cell_type": "markdown",
   "id": "a4c3df53-d3d1-4074-86e3-2df8c5095b6d",
   "metadata": {},
   "source": [
    "not sure this approach will work"
   ]
  },
  {
   "cell_type": "markdown",
   "id": "bfb554f7-027f-4489-a374-2caad9c90b15",
   "metadata": {},
   "source": [
    "## Visual Debugger\n",
    "\n",
    "In order to check/validate geometry, it's helpful to be able to see it."
   ]
  },
  {
   "cell_type": "code",
   "execution_count": 45,
   "id": "bc6c8f0b-15ce-43df-bd29-6ca051d94df0",
   "metadata": {},
   "outputs": [],
   "source": [
    "import ipywidgets as widgets\n",
    "from OCC.Display.WebGl.jupyter_renderer import JupyterRenderer"
   ]
  },
  {
   "cell_type": "code",
   "execution_count": 54,
   "id": "b01b0472-1815-41d3-bec8-aae97dd647ae",
   "metadata": {
    "tags": []
   },
   "outputs": [],
   "source": [
    "# initialize renderer\n",
    "renderer = JupyterRenderer()"
   ]
  },
  {
   "cell_type": "code",
   "execution_count": 55,
   "id": "4f48bf3b-04dd-4369-bbb2-c0ac53b5184d",
   "metadata": {
    "tags": []
   },
   "outputs": [
    {
     "data": {
      "application/vnd.jupyter.widget-view+json": {
       "model_id": "d39a5e98f18149218355f3461d4ee78c",
       "version_major": 2,
       "version_minor": 0
      },
      "text/plain": [
       "HBox(children=(VBox(children=(HBox(children=(Checkbox(value=True, description='Axes', layout=Layout(height='au…"
      ]
     },
     "metadata": {},
     "output_type": "display_data"
    }
   ],
   "source": [
    "renderer.DisplayShape(edge, render_edges=True, topo_level=\"default\", shape_color=\"#abdda4\", update=True)"
   ]
  },
  {
   "cell_type": "code",
   "execution_count": 48,
   "id": "17236cff-f7d9-4711-b59f-c5b752fba602",
   "metadata": {},
   "outputs": [],
   "source": [
    "# def trimmed_to_edge(t):\n",
    "#   p_0 = t.FirstParameter()\n",
    "#   p_1 = t.LastParameter()\n",
    "#   pts = [t.Value(p) for p in [p_0, p_1]]\n",
    "#   print([p.Coord() for p in pts])\n",
    "#   e = BRepBuilderAPI_MakeEdge(*pts)\n",
    "#   return e.Shape()  "
   ]
  },
  {
   "cell_type": "code",
   "execution_count": 56,
   "id": "18e6be12-b588-456a-b6a4-8ad996be3fde",
   "metadata": {},
   "outputs": [],
   "source": [
    "renderer.DisplayShape(bounds)"
   ]
  },
  {
   "cell_type": "code",
   "execution_count": 57,
   "id": "3f2d425e-3ae5-4db0-bb46-58ea11677cb7",
   "metadata": {
    "tags": []
   },
   "outputs": [],
   "source": [
    "# check the setback edge is looking ok prior to trim/extend step\n",
    "renderer.DisplayShape(wire_setback)"
   ]
  },
  {
   "cell_type": "code",
   "execution_count": 51,
   "id": "8851e7be-575e-4a84-862a-5e8c5e3e4563",
   "metadata": {},
   "outputs": [],
   "source": [
    "# check that the curve created from our original wire looks ok\n",
    "# bounds_curve = BRepBuilderAPI_MakeEdge(bounds_ascurve).Shape()\n",
    "# renderer.DisplayShape(bounds_curve)"
   ]
  },
  {
   "cell_type": "code",
   "execution_count": 52,
   "id": "318e470b-42d8-4605-a71b-59cce97e50ba",
   "metadata": {},
   "outputs": [],
   "source": [
    "# check that the curve created from our original wire looks ok\n",
    "# trimmed_asedge = BRepBuilderAPI_MakeEdge(trimmed).Shape()\n",
    "# renderer.DisplayShape(trimmed_asedge)"
   ]
  },
  {
   "cell_type": "code",
   "execution_count": 58,
   "id": "5787314d-b05a-4c6c-929f-69e94dd13a22",
   "metadata": {},
   "outputs": [],
   "source": [
    "# check edge from alternate trim/extend algorithm\n",
    "# based on 2d curve/curve intersection\n",
    "result_asedge = BRepBuilderAPI_MakeEdge(result).Shape()\n",
    "renderer.DisplayShape(result_asedge)"
   ]
  }
 ],
 "metadata": {
  "kernelspec": {
   "display_name": "Python 3 (ipykernel)",
   "language": "python",
   "name": "python3"
  },
  "language_info": {
   "codemirror_mode": {
    "name": "ipython",
    "version": 3
   },
   "file_extension": ".py",
   "mimetype": "text/x-python",
   "name": "python",
   "nbconvert_exporter": "python",
   "pygments_lexer": "ipython3",
   "version": "3.7.10"
  }
 },
 "nbformat": 4,
 "nbformat_minor": 5
}
