{
 "metadata": {
  "language_info": {
   "codemirror_mode": {
    "name": "ipython",
    "version": 3
   },
   "file_extension": ".py",
   "mimetype": "text/x-python",
   "name": "python",
   "nbconvert_exporter": "python",
   "pygments_lexer": "ipython3",
   "version": "3.8.6"
  },
  "orig_nbformat": 2,
  "kernelspec": {
   "name": "python386jvsc74a57bd06b7886ffce86878e0d0b87f814a091cfe8a6f59efc2e40a7db088c57f37d22a3",
   "display_name": "Python 3.8.6 64-bit ('zoning': conda)"
  }
 },
 "nbformat": 4,
 "nbformat_minor": 2,
 "cells": [
  {
   "cell_type": "code",
   "execution_count": 1,
   "metadata": {},
   "outputs": [],
   "source": [
    "from OCC.Core.GeomAPI import (\n",
    "    geomapi_To3d,\n",
    "    geomapi_To2d,\n",
    ")\n",
    "from OCC.Core.Geom import Geom_TrimmedCurve\n",
    "from OCC.Core.Geom2d import Geom2d_BezierCurve\n",
    "from OCC.Core.gp import gp_Vec2d, gp_Pnt2d, gp_Dir2d"
   ]
  },
  {
   "cell_type": "code",
   "execution_count": 2,
   "metadata": {},
   "outputs": [],
   "source": [
    "# add udtools core modules to path\n",
    "module_path = '../python/'\n",
    "if module_path not in sys.path:\n",
    "    sys.path.append(module_path)"
   ]
  },
  {
   "cell_type": "code",
   "execution_count": 3,
   "metadata": {},
   "outputs": [],
   "source": [
    "from geometry.curve import match_curve_direction\n",
    "from geometry.conversion import coords_to_curve, wkt_to_occ, curve_to_wire, pts_to_curve\n",
    "from geometry.reference import world_xy"
   ]
  },
  {
   "cell_type": "code",
   "execution_count": 4,
   "metadata": {},
   "outputs": [],
   "source": [
    "# bounds_wkt = 'POLYGON((-33.1094805712346 24.42985526434495,-46.22362966486253 -23.632720552763203,-147.7965995783452 3.889560617128154,-141.0705573076848 28.540102876344463,-134.68245048471726 51.951466001191875,-33.1094805712346 24.42985526434495))'\n",
    "bounds_wkt = 'POLYGON((-46.22362966486253 -23.632720552763203,-59.2367360109929 -71.32453354485915,-160.80903549143113 -43.799661718687275,-154.23228616663255 -19.696363531431416,-147.7965995783452 3.889560617128154,-46.22362966486253 -23.632720552763203))'\n",
    "\n",
    "# curve_1_wkt = 'LINESTRING(-33.1094805712346 24.42985526434495,-46.22362966486253 -23.632720552763203)'\n",
    "curve_1_wkt = 'LINESTRING(-154.23228616663255 -19.696363531431416, -160.80903549143113 -43.799661718687275)'\n",
    "\n",
    "# reversed version of curve_1\n",
    "# curve_2_wkt = 'LINESTRING(-46.22362966486253 -23.632720552763203, -33.1094805712346 24.42985526434495)'\n",
    "curve_2_wkt = 'LINESTRING(-147.7965995783452 3.889560617128154, -154.23228616663255 -19.696363531431416)'"
   ]
  },
  {
   "cell_type": "code",
   "execution_count": 5,
   "metadata": {},
   "outputs": [
    {
     "output_type": "stream",
     "name": "stdout",
     "text": [
      "got wkt: POLYGON((-46.22362966486253 -23.632720552763203,-59.2367360109929 -71.32453354485915,-160.80903549143113 -43.799661718687275,-154.23228616663255 -19.696363531431416,-147.7965995783452 3.889560617128154,-46.22362966486253 -23.632720552763203))\n[(-46.22362966486253, -23.632720552763203, 0), (-59.2367360109929, -71.32453354485915, 0), (-160.80903549143113, -43.799661718687275, 0), (-154.23228616663255, -19.696363531431416, 0), (-147.7965995783452, 3.889560617128154, 0), (-46.22362966486253, -23.632720552763203, 0)]\nresult was\n<class 'Geom_BSplineCurve'>\ngot wkt: LINESTRING(-154.23228616663255 -19.696363531431416, -160.80903549143113 -43.799661718687275)\n[(-154.23228616663255, -19.696363531431416, 0), (-160.80903549143113, -43.799661718687275, 0)]\nresult was\n<class 'Geom_BSplineCurve'>\ngot wkt: LINESTRING(-147.7965995783452 3.889560617128154, -154.23228616663255 -19.696363531431416)\n[(-147.7965995783452, 3.889560617128154, 0), (-154.23228616663255, -19.696363531431416, 0)]\nresult was\n<class 'Geom_BSplineCurve'>\n"
     ]
    }
   ],
   "source": [
    "bounds = wkt_to_occ(bounds_wkt)\n",
    "curve_1 = wkt_to_occ(curve_1_wkt)\n",
    "curve_2 = wkt_to_occ(curve_2_wkt)\n",
    "\n",
    "bounds_2d = geomapi_To2d(bounds, world_xy)\n",
    "curve_1_2d = geomapi_To2d(curve_1, world_xy)\n",
    "curve_2_2d = geomapi_To2d(curve_2, world_xy)\n"
   ]
  },
  {
   "cell_type": "code",
   "execution_count": 7,
   "metadata": {},
   "outputs": [
    {
     "output_type": "stream",
     "name": "stdout",
     "text": [
      "c1 was reversed!\n"
     ]
    }
   ],
   "source": [
    "result = match_curve_direction(curve_1, bounds)"
   ]
  },
  {
   "cell_type": "code",
   "execution_count": 8,
   "metadata": {},
   "outputs": [
    {
     "output_type": "stream",
     "name": "stdout",
     "text": [
      "c1 was reversed!\n"
     ]
    }
   ],
   "source": [
    "result = match_curve_direction(curve_2, bounds)"
   ]
  },
  {
   "cell_type": "code",
   "execution_count": 9,
   "metadata": {},
   "outputs": [],
   "source": [
    "result = match_curve_direction(curve_2, bounds)"
   ]
  }
 ]
}