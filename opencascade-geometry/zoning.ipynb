{
 "cells": [
  {
   "cell_type": "markdown",
   "id": "continuous-regression",
   "metadata": {},
   "source": [
    "# Zoning Sketchbook"
   ]
  },
  {
   "cell_type": "code",
   "execution_count": 1,
   "id": "national-logging",
   "metadata": {},
   "outputs": [
    {
     "ename": "ModuleNotFoundError",
     "evalue": "No module named 'OCC'",
     "output_type": "error",
     "traceback": [
      "\u001b[0;31m-----------------------------------------------------------------\u001b[0m",
      "\u001b[0;31mModuleNotFoundError\u001b[0m             Traceback (most recent call last)",
      "\u001b[0;32m<ipython-input-1-d0ce6e9a0f1c>\u001b[0m in \u001b[0;36m<module>\u001b[0;34m\u001b[0m\n\u001b[1;32m      4\u001b[0m \u001b[0;32mfrom\u001b[0m \u001b[0mshapely\u001b[0m\u001b[0;34m.\u001b[0m\u001b[0mops\u001b[0m \u001b[0;32mimport\u001b[0m \u001b[0mtransform\u001b[0m\u001b[0;34m\u001b[0m\u001b[0;34m\u001b[0m\u001b[0m\n\u001b[1;32m      5\u001b[0m \u001b[0;32mimport\u001b[0m \u001b[0mshapely\u001b[0m\u001b[0;34m.\u001b[0m\u001b[0mwkt\u001b[0m\u001b[0;34m\u001b[0m\u001b[0;34m\u001b[0m\u001b[0m\n\u001b[0;32m----> 6\u001b[0;31m \u001b[0;32mfrom\u001b[0m \u001b[0mOCC\u001b[0m\u001b[0;34m.\u001b[0m\u001b[0mDisplay\u001b[0m\u001b[0;34m.\u001b[0m\u001b[0mWebGl\u001b[0m\u001b[0;34m.\u001b[0m\u001b[0mjupyter_renderer\u001b[0m \u001b[0;32mimport\u001b[0m \u001b[0mJupyterRenderer\u001b[0m\u001b[0;34m\u001b[0m\u001b[0;34m\u001b[0m\u001b[0m\n\u001b[0m",
      "\u001b[0;31mModuleNotFoundError\u001b[0m: No module named 'OCC'"
     ]
    }
   ],
   "source": [
    "# import standard and 3rd-party libraries\n",
    "import sys\n",
    "from shapely.geometry import shape\n",
    "from shapely.ops import transform\n",
    "import shapely.wkt\n",
    "from OCC.Display.WebGl.jupyter_renderer import JupyterRenderer"
   ]
  },
  {
   "cell_type": "code",
   "execution_count": 2,
   "id": "disabled-mounting",
   "metadata": {},
   "outputs": [],
   "source": [
    "# add udtools core modules to path\n",
    "module_path = '../python/'\n",
    "if module_path not in sys.path:\n",
    "    sys.path.append(module_path)"
   ]
  },
  {
   "cell_type": "code",
   "execution_count": 3,
   "id": "expressed-charter",
   "metadata": {},
   "outputs": [],
   "source": [
    "# import udtools modules\n",
    "from models.zoninglot import ZoningLot\n",
    "from models.site import Site\n",
    "from models.scenario import Scenario"
   ]
  },
  {
   "cell_type": "code",
   "execution_count": 4,
   "id": "documented-nerve",
   "metadata": {},
   "outputs": [],
   "source": [
    "# get query bounds and area centroid from default\n",
    "aoi = shapely.wkt.loads('POLYGON ((1009405.90154069 234515.39897036, 1009930.58999844 234367.63467916, 1009849.1944143 234052.07026066, 1009314.48803851 234194.82559284, 1009405.90154069 234515.39897036))')\n",
    "\n",
    "# define common query params for study area\n",
    "params = {\n",
    "    'center_x': aoi.representative_point().x,\n",
    "    'center_y': aoi.representative_point().y,\n",
    "    'bounds': aoi.wkt\n",
    "}"
   ]
  },
  {
   "cell_type": "markdown",
   "id": "allied-girlfriend",
   "metadata": {},
   "source": [
    "## Setup\n",
    "\n",
    "Define a `Scenario` and `Site` before using them to construct a `ZoningLot`. Calling the `define_zone` method of `ZoningLot` will use `ZoneFactory` to construct a custom `Zone` object using the appropriate subclass (e.g. `ContextualDistrict`) for the provided arguments.\n",
    "\n",
    "The `Zone` class defines three methods that are used by `ZoningLot` in generating envelopes, new buildings, and instantiating ExistingBuilding objects based on 3d models in the `buildings` table. These are:\n",
    "\n",
    "- `get_additives`\n",
    "- `get_subtractices`\n",
    "- `get_allowables`\n"
   ]
  },
  {
   "cell_type": "code",
   "execution_count": 5,
   "id": "numerous-riverside",
   "metadata": {},
   "outputs": [],
   "source": [
    "my_scenario = Scenario('A')\n",
    "\n",
    "my_site = Site('2', ['2025540049']) # works\n",
    "# my_site = Site('1', ['2025770022']) \n",
    "# fails on existing building,\n",
    "# (compound envelopes not yet supported)\n",
    "# my_site = Site('3', ['2025770020', '2025770022'])\n",
    "# fails on existing building,\n",
    "# (compound envelopes not yet supported)\n",
    "# fails on envelope creation, not sure why\n",
    "\n",
    "zl = ZoningLot(my_scenario, my_site)\n",
    "zl.define_zone('R6A')"
   ]
  },
  {
   "cell_type": "markdown",
   "id": "ca4aef5b",
   "metadata": {},
   "source": [
    "The `ZoningLot` constructor calls the `load_shape` and `load_edges` methods, which define its shape and topological relationships. In other words, it classifies the lot type (Interior, Through, Corner), the types of each of its edges (Front, Rear, Side) and the street width type for each Front edge (Narrow, Wide).\n",
    "\n",
    "Incoming geometries from the database are stored in a [well-known text](https://en.wikipedia.org/wiki/Well-known_text_representation_of_geometry) representation. This is interpreted as the OpenCASCADE geometry type appropriate to each operation that requires `ZoningLot` geometry as an argument.\n",
    "\n",
    "*See ZH 15*"
   ]
  },
  {
   "cell_type": "code",
   "execution_count": 6,
   "id": "5eb4c2b4",
   "metadata": {},
   "outputs": [
    {
     "data": {
      "text/plain": [
       "{'ids': [1320, 1322, 2514, 2518, 3723],\n",
       " 'front': [{'id': 1322,\n",
       "   'geom': 'LINESTRING(-1311.9080969805364 -438.1853605140059,-1345.9346148485783 -522.8711992133467)',\n",
       "   'azimuth': 3.523647227744336,\n",
       "   'length': 91.266068143834,\n",
       "   'front': True,\n",
       "   'streetname': 'Cypress Avenue',\n",
       "   'streetwidth': Decimal('80'),\n",
       "   'baseplane': 46}],\n",
       " 'rear': [{'id': 2518,\n",
       "   'geom': 'LINESTRING(-1445.6253606791142 -480.48513468392775,-1410.5712887758855 -397.8964062560408)',\n",
       "   'azimuth': 0.4013973760000926,\n",
       "   'length': 89.72004246728818,\n",
       "   'front': False,\n",
       "   'streetname': None,\n",
       "   'streetwidth': None},\n",
       "  {'id': 3723,\n",
       "   'geom': 'LINESTRING(-1410.5712887758855 -397.8964062560408,-1409.9751841539983 -396.48924978860305)',\n",
       "   'azimuth': 0.40070420672465623,\n",
       "   'length': 1.5282113872390695,\n",
       "   'front': False,\n",
       "   'streetname': None,\n",
       "   'streetwidth': None}],\n",
       " 'side': [{'id': 2514,\n",
       "   'geom': 'LINESTRING(-1345.9346148485783 -522.8711992133467,-1445.6253606791142 -480.48513468392775)',\n",
       "   'azimuth': 5.114408284021454,\n",
       "   'length': 108.3273892907079,\n",
       "   'front': False,\n",
       "   'streetname': None,\n",
       "   'streetwidth': None},\n",
       "  {'id': 1320,\n",
       "   'geom': 'LINESTRING(-1311.9080969805364 -438.1853605140059,-1409.9751841539983 -396.48924978860305)',\n",
       "   'azimuth': 5.114411618416073,\n",
       "   'length': 106.56321708878927,\n",
       "   'front': False,\n",
       "   'streetname': None,\n",
       "   'streetwidth': None}]}"
      ]
     },
     "execution_count": 6,
     "metadata": {},
     "output_type": "execute_result"
    }
   ],
   "source": [
    "zl.geom # the full zoning lot boundary expressed as wkt\n",
    "zl.area # geometric area of the zoning lot boundary in square feet\n",
    "zl.baseplane_elevation # approximate baseplane ht in feet\n",
    "zl.edges # dictionary of lot edges, classified by type\n",
    "# zl.type # not yet implemented"
   ]
  },
  {
   "cell_type": "markdown",
   "id": "d839bfea",
   "metadata": {},
   "source": [
    "In the simplest use case we can fetch the existing buildings on the `ZoningLot` and use them to create a compound solid to use as the envelope by setting the `use_as_envelope` flag. This is useful for estimating existing floor area and evaluating conversions, extensions and enlargements."
   ]
  },
  {
   "cell_type": "code",
   "execution_count": 7,
   "id": "c243032b",
   "metadata": {},
   "outputs": [
    {
     "name": "stdout",
     "output_type": "stream",
     "text": [
      "was compound\n",
      "<class 'TopoDS_Solid'>\n",
      "[<class 'TopoDS_Solid'>]\n"
     ]
    }
   ],
   "source": [
    "bldg_result = zl.load_buildings(use_as_envelope=True)"
   ]
  },
  {
   "cell_type": "code",
   "execution_count": 8,
   "id": "9e988069",
   "metadata": {},
   "outputs": [],
   "source": [
    "# OCC renderer\n",
    "renderer = JupyterRenderer()"
   ]
  },
  {
   "cell_type": "code",
   "execution_count": 9,
   "id": "d831c1fd",
   "metadata": {},
   "outputs": [
    {
     "data": {
      "application/vnd.jupyter.widget-view+json": {
       "model_id": "a0bca9e93ade42b9ad1676bf701c8a8e",
       "version_major": 2,
       "version_minor": 0
      },
      "text/plain": [
       "HBox(children=(VBox(children=(HBox(children=(Checkbox(value=True, description='Axes', layout=Layout(height='au…"
      ]
     },
     "metadata": {},
     "output_type": "display_data"
    }
   ],
   "source": [
    "# display the current envelope, based on the existing building(s)\n",
    "renderer.DisplayShape(zl.envelope, render_edges=True, topo_level=\"Face\", shape_color=\"#abdda4\", update=True)"
   ]
  },
  {
   "cell_type": "code",
   "execution_count": 10,
   "id": "exposed-declaration",
   "metadata": {},
   "outputs": [],
   "source": [
    "# massing_goals are defined as a list of dictionaries \n",
    "# defining height, usegroup and an optional label for each floor\n",
    "# the last element is assumed to repeat upwards until evaluation stops\n",
    "massing_goals = [\n",
    "  (11.5, 4, 'school'),\n",
    "  (9.5, 2, 'residential'),\n",
    "]"
   ]
  },
  {
   "cell_type": "code",
   "execution_count": 11,
   "id": "87b2058f",
   "metadata": {},
   "outputs": [
    {
     "name": "stdout",
     "output_type": "stream",
     "text": [
      "using baseplane\n",
      "sectioning at 57.0\n",
      "<class 'TopoDS_Compound'>\n",
      "sectioning at 66.5\n",
      "<class 'TopoDS_Compound'>\n",
      "sectioning at 76.0\n",
      "<class 'TopoDS_Compound'>\n",
      "sectioning at 85.5\n",
      "<class 'TopoDS_Compound'>\n",
      "sectioning at 95.0\n",
      "<class 'TopoDS_Compound'>\n",
      "sectioning at 104.5\n",
      "<class 'TopoDS_Compound'>\n",
      "sectioning at 114.0\n",
      "<class 'TopoDS_Compound'>\n"
     ]
    }
   ],
   "source": [
    "massing = zl.generate_building(massing_goals)"
   ]
  },
  {
   "cell_type": "code",
   "execution_count": 12,
   "id": "21d8d896",
   "metadata": {},
   "outputs": [
    {
     "name": "stdout",
     "output_type": "stream",
     "text": [
      "1\n",
      "1\n",
      "1\n",
      "1\n",
      "1\n",
      "1\n",
      "3\n"
     ]
    }
   ],
   "source": [
    "for floor in massing.floors:\n",
    "    # if floor.NbChildren() > 0:\n",
    "    #     print(floor)\n",
    "    print(floor.NbChildren())\n",
    "    renderer.DisplayShape(floor, render_edges=True)\n"
   ]
  },
  {
   "cell_type": "code",
   "execution_count": 13,
   "id": "cdf0096f",
   "metadata": {},
   "outputs": [
    {
     "name": "stdout",
     "output_type": "stream",
     "text": [
      "39665.91523443459 sqft in the current building\n"
     ]
    }
   ],
   "source": [
    "# summarize the current proposed building\n",
    "massing.summarize()"
   ]
  },
  {
   "cell_type": "code",
   "execution_count": 14,
   "id": "d22b0822",
   "metadata": {},
   "outputs": [
    {
     "data": {
      "text/plain": [
       "46"
      ]
     },
     "execution_count": 14,
     "metadata": {},
     "output_type": "execute_result"
    }
   ],
   "source": [
    "zl.baseplane_elevation"
   ]
  },
  {
   "cell_type": "markdown",
   "id": "aecdd07f",
   "metadata": {},
   "source": [
    "More commonly, you'll want to generate a zoning envelope for a building that doesn't exist yet. To do this, call `generate_envelope` on the `ZoningLot`, passing in the required `massing_goals`. Even though you're not generating the building itself yet, these are needed for the algorithm to be able to process spatial constraints conditioned on per-floor uses, like rear yard depths."
   ]
  },
  {
   "cell_type": "code",
   "execution_count": 15,
   "id": "485dea21",
   "metadata": {},
   "outputs": [
    {
     "name": "stdout",
     "output_type": "stream",
     "text": [
      "False\n",
      "False\n",
      "curve 1:\n",
      "(-1311.9080969805364, -438.1853605140059)\n",
      "(-1311.9080969805364, -438.1853605140059)\n",
      "(-1345.9346148485783, -522.8711992133467)\n",
      "(-1345.9346182054674, -522.8711977860796)\n",
      "...set back by 0\n",
      "...elevated by 60\n",
      "curve 2:\n",
      "(-1321.1871029048277, -434.45708355849854)\n",
      "(-1321.11264653633, -434.2717751458897)\n",
      "(-1355.2136207728697, -519.1429222578394)\n",
      "(-1355.139176840876, -518.9576447974357)\n",
      "...set back by 10.0\n",
      "...elevated by 60\n",
      "curve 3:\n",
      "(-1321.1871029048277, -434.45708355849854)\n",
      "(-1321.11264653633, -434.2717751458897)\n",
      "(-1355.2136207728697, -519.1429222578394)\n",
      "(-1355.139176840876, -518.9576447974357)\n",
      "...set back by 10.0\n",
      "...elevated by 70\n",
      "curve 4:\n",
      "(-1311.9080969805364, -438.1853605140059)\n",
      "(-1311.9080969805364, -438.1853605140059)\n",
      "(-1345.9346148485783, -522.8711992133467)\n",
      "(-1345.9346182054674, -522.8711977860796)\n",
      "...set back by 0\n",
      "...elevated by 70\n",
      "<class 'TopoDS_Wire'>\n",
      "<class 'TopoDS_Wire'>\n",
      "False\n",
      "False\n",
      "curve 1:\n",
      "(-1445.6253606791142, -480.48513468392775)\n",
      "(-1445.6253606791142, -480.48513468392775)\n",
      "(-1410.5712887758855, -397.8964062560408)\n",
      "(-1409.974209301882, -396.489664275695)\n",
      "...set back by 0\n",
      "...elevated by 15.0\n",
      "curve 2:\n",
      "(-1418.0098827468566, -492.20628559042984)\n",
      "(-1418.0171724554789, -492.22346042157017)\n",
      "(-1382.955810843628, -409.6175571625429)\n",
      "(-1382.3660601612044, -408.22808209427427)\n",
      "...set back by 30.0\n",
      "...elevated by 15.0\n",
      "curve 3:\n",
      "(-1418.0098827468566, -492.20628559042984)\n",
      "(-1418.0171724554789, -492.22346042157017)\n",
      "(-1382.955810843628, -409.6175571625429)\n",
      "(-1382.3660601612044, -408.22808209427427)\n",
      "...set back by 30.0\n",
      "...elevated by 70\n",
      "curve 4:\n",
      "(-1445.6253606791142, -480.48513468392775)\n",
      "(-1445.6253606791142, -480.48513468392775)\n",
      "(-1410.5712887758855, -397.8964062560408)\n",
      "(-1409.974209301882, -396.489664275695)\n",
      "...set back by 0\n",
      "...elevated by 70\n",
      "<class 'TopoDS_Wire'>\n",
      "<class 'TopoDS_Wire'>\n",
      "False\n",
      "False\n",
      "curve 1:\n",
      "(-1410.5712887758855, -397.8964062560408)\n",
      "(-1410.5712887764018, -397.89640625725747)\n",
      "(-1409.9751841539983, -396.48924978860305)\n",
      "(-1409.9751841539983, -396.48924978860305)\n",
      "...set back by 0\n",
      "...elevated by 15.0\n",
      "curve 2:\n",
      "(-1382.94769273699, -409.59841214733615)\n",
      "(-1382.3670164149607, -408.2276755148228)\n",
      "(-1382.3515881151027, -408.1912556798984)\n",
      "(-1382.3670164149607, -408.2276755148228)\n",
      "...set back by 30.0\n",
      "...elevated by 15.0\n",
      "curve 3:\n",
      "(-1382.94769273699, -409.59841214733615)\n",
      "(-1382.3670164149607, -408.2276755148228)\n",
      "(-1382.3515881151027, -408.1912556798984)\n",
      "(-1382.3670164149607, -408.2276755148228)\n",
      "...set back by 30.0\n",
      "...elevated by 70\n",
      "curve 4:\n",
      "(-1410.5712887758855, -397.8964062560408)\n",
      "(-1410.5712887764018, -397.89640625725747)\n",
      "(-1409.9751841539983, -396.48924978860305)\n",
      "(-1409.9751841539983, -396.48924978860305)\n",
      "...set back by 0\n",
      "...elevated by 70\n",
      "<class 'TopoDS_Wire'>\n",
      "<class 'TopoDS_Wire'>\n",
      "<class 'TopoDS_Compound'>\n",
      "<class 'TopoDS_Compound'>\n",
      "<class 'TopoDS_Compound'>\n",
      "<class 'TopoDS_Compound'>\n"
     ]
    }
   ],
   "source": [
    "massing_goals = [\n",
    "  (15.0, 4, 'school'),\n",
    "  (10.0, 2, 'residential'),\n",
    "]\n",
    "\n",
    "zl.baseplane_elevation = 0\n",
    "zl.generate_envelope(massing_goals)\n"
   ]
  },
  {
   "cell_type": "code",
   "execution_count": 16,
   "id": "6afe39a2",
   "metadata": {},
   "outputs": [
    {
     "data": {
      "application/vnd.jupyter.widget-view+json": {
       "model_id": "7ee7b156a73b4247aacbd8906f3ed0b6",
       "version_major": 2,
       "version_minor": 0
      },
      "text/plain": [
       "HBox(children=(VBox(children=(HBox(children=(Checkbox(value=True, description='Axes', layout=Layout(height='au…"
      ]
     },
     "metadata": {},
     "output_type": "display_data"
    }
   ],
   "source": [
    "# display the current envelope, based on the existing building(s)\n",
    "renderer_2 = JupyterRenderer()\n",
    "renderer_2.DisplayShape(zl.envelope, render_edges=True, topo_level=\"Face\", shape_color=\"#abdda4\", update=True)"
   ]
  },
  {
   "cell_type": "code",
   "execution_count": 17,
   "id": "6ca53016",
   "metadata": {},
   "outputs": [
    {
     "name": "stdout",
     "output_type": "stream",
     "text": [
      "using baseplane\n",
      "sectioning at 14.5\n",
      "<class 'TopoDS_Compound'>\n",
      "sectioning at 24.5\n",
      "<class 'TopoDS_Compound'>\n",
      "sectioning at 34.5\n",
      "<class 'TopoDS_Compound'>\n",
      "sectioning at 44.5\n",
      "<class 'TopoDS_Compound'>\n",
      "sectioning at 54.5\n",
      "<class 'TopoDS_Compound'>\n",
      "sectioning at 64.5\n",
      "<class 'TopoDS_Compound'>\n"
     ]
    }
   ],
   "source": [
    "# use same massing goals from before\n",
    "massing = zl.generate_building(massing_goals)"
   ]
  },
  {
   "cell_type": "code",
   "execution_count": 18,
   "id": "be55d930",
   "metadata": {},
   "outputs": [
    {
     "name": "stdout",
     "output_type": "stream",
     "text": [
      "44224.88373680335 sqft in the current building\n"
     ]
    }
   ],
   "source": [
    "massing.summarize()\n"
   ]
  },
  {
   "cell_type": "code",
   "execution_count": 19,
   "id": "helpful-creation",
   "metadata": {},
   "outputs": [],
   "source": [
    "for floor in massing.floors:\n",
    "  renderer_2.DisplayShape(floor, render_edges=True)"
   ]
  },
  {
   "cell_type": "markdown",
   "id": "champion-excuse",
   "metadata": {},
   "source": [
    "## Export to STEP file\n",
    "\n",
    "(can be opened with Rhino)"
   ]
  },
  {
   "cell_type": "code",
   "execution_count": 20,
   "id": "handmade-sauce",
   "metadata": {},
   "outputs": [
    {
     "name": "stdout",
     "output_type": "stream",
     "text": [
      "47900.59184109822\n"
     ]
    },
    {
     "data": {
      "text/plain": [
       "1"
      ]
     },
     "execution_count": 20,
     "metadata": {},
     "output_type": "execute_result"
    }
   ],
   "source": [
    "from connectors.step import shapes_to_step\n",
    "\n",
    "\n",
    "from OCC.Core.TopExp import TopExp_Explorer\n",
    "from OCC.Core.TopAbs import TopAbs_SOLID\n",
    "\n",
    "from geometry.measure import surface_area\n",
    "\n",
    "explorer = TopExp_Explorer(zl.envelope, TopAbs_SOLID)\n",
    "\n",
    "solids = []\n",
    "\n",
    "while explorer.More():\n",
    "    solids.append(explorer.Current())\n",
    "    print(surface_area(explorer.Current()))\n",
    "    explorer.Next()\n",
    "\n",
    "# renderer.DisplayShape(explorer.Current(), render_edges=True)\n",
    "\n",
    "\n",
    "\n",
    "shapes_to_step(solids, \"/Users/carsten/Desktop/envelope.stp\")"
   ]
  }
 ],
 "metadata": {
  "kernelspec": {
   "display_name": "Python 3",
   "language": "python",
   "name": "python3"
  },
  "language_info": {
   "codemirror_mode": {
    "name": "ipython",
    "version": 3
   },
   "file_extension": ".py",
   "mimetype": "text/x-python",
   "name": "python",
   "nbconvert_exporter": "python",
   "pygments_lexer": "ipython3",
   "version": "3.9.4"
  }
 },
 "nbformat": 4,
 "nbformat_minor": 5
}
