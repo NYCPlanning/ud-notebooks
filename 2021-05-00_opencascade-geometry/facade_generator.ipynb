{
 "cells": [
  {
   "cell_type": "markdown",
   "id": "continuous-regression",
   "metadata": {},
   "source": [
    "# Facade Generator"
   ]
  },
  {
   "cell_type": "markdown",
   "id": "c498d815",
   "metadata": {},
   "source": [
    "Setup steps: import builtin and 3rd-party libraries, load environment variables (needed for database connection), and import modules from `ud-tools-core`."
   ]
  },
  {
   "cell_type": "code",
   "execution_count": 39,
   "id": "national-logging",
   "metadata": {},
   "outputs": [],
   "source": [
    "import os\n",
    "import sys\n",
    "\n",
    "from dotenv import load_dotenv\n",
    "from shapely.geometry import shape\n",
    "from shapely.ops import transform\n",
    "import shapely.wkt"
   ]
  },
  {
   "cell_type": "code",
   "execution_count": 40,
   "id": "8fa43995",
   "metadata": {},
   "outputs": [
    {
     "data": {
      "text/plain": [
       "True"
      ]
     },
     "execution_count": 40,
     "metadata": {},
     "output_type": "execute_result"
    }
   ],
   "source": [
    "load_dotenv(\"../.env.local\")"
   ]
  },
  {
   "cell_type": "code",
   "execution_count": 41,
   "id": "disabled-mounting",
   "metadata": {},
   "outputs": [],
   "source": [
    "home_path = os.path.expanduser('~')\n",
    "module_path = os.path.join(home_path, 'git/ud-tools-core/python/')\n",
    "if module_path not in sys.path:\n",
    "    sys.path.append(module_path)"
   ]
  },
  {
   "cell_type": "code",
   "execution_count": 42,
   "id": "expressed-charter",
   "metadata": {},
   "outputs": [],
   "source": [
    "from models.zoninglot import ZoningLot\n",
    "from models.site import Site\n",
    "from models.scenario import Scenario"
   ]
  },
  {
   "cell_type": "code",
   "execution_count": 37,
   "id": "documented-nerve",
   "metadata": {},
   "outputs": [],
   "source": [
    "# get query bounds and area centroid from default\n",
    "# aoi = shapely.wkt.loads('POLYGON ((1009405.90154069 234515.39897036, 1009930.58999844 234367.63467916, 1009849.1944143 234052.07026066, 1009314.48803851 234194.82559284, 1009405.90154069 234515.39897036))')\n",
    "\n",
    "# define common query params for study area\n",
    "# params = {\n",
    "#     'center_x': aoi.representative_point().x,\n",
    "#     'center_y': aoi.representative_point().y,\n",
    "#     'bounds': aoi.wkt\n",
    "# }"
   ]
  },
  {
   "cell_type": "markdown",
   "id": "7f50f678",
   "metadata": {},
   "source": [
    "Set up a `ZoningLot` object, we need this to get the buildings that sit on it and then sort their facades based on orientation relative to the lot."
   ]
  },
  {
   "cell_type": "code",
   "execution_count": 44,
   "id": "numerous-riverside",
   "metadata": {},
   "outputs": [
    {
     "name": "stdout",
     "output_type": "stream",
     "text": [
      "conn strhost=0.0.0.0 port=25432 user=user dbname=nyc password=1234\n",
      "conn strhost=0.0.0.0 port=25432 user=user dbname=nyc password=1234\n",
      "conn strhost=0.0.0.0 port=25432 user=user dbname=nyc password=1234\n"
     ]
    }
   ],
   "source": [
    "my_scenario = Scenario('A')\n",
    "my_site = Site('2', ['2025540049'])\n",
    "zl = ZoningLot(my_scenario, my_site)\n",
    "# zl.define_zone('R6A')"
   ]
  },
  {
   "cell_type": "code",
   "execution_count": 46,
   "id": "0b1b4928",
   "metadata": {},
   "outputs": [
    {
     "data": {
      "text/plain": [
       "{'ids': [1320, 1322, 2514, 2518, 3723],\n",
       " 'front': [{'id': 1322,\n",
       "   'geom': 'LINESTRING(62.6437825600151 40.73067328101024,28.617264691973105 -43.95516541833058)',\n",
       "   'azimuth': 3.523647227744336,\n",
       "   'length': 91.266068143834,\n",
       "   'front': True,\n",
       "   'streetname': 'Cypress Avenue',\n",
       "   'streetwidth': Decimal('80'),\n",
       "   'baseplane': 46}],\n",
       " 'rear': [{'id': 2518,\n",
       "   'geom': 'LINESTRING(-71.07348113856278 -1.569100888911635,-36.019409235334024 81.01962753897533)',\n",
       "   'azimuth': 0.4013973760000926,\n",
       "   'length': 89.72004246728818,\n",
       "   'front': False,\n",
       "   'streetname': None,\n",
       "   'streetwidth': None},\n",
       "  {'id': 3723,\n",
       "   'geom': 'LINESTRING(-36.019409235334024 81.01962753897533,-35.42330461344682 82.42678400641307)',\n",
       "   'azimuth': 0.40070420672465623,\n",
       "   'length': 1.5282113872390695,\n",
       "   'front': False,\n",
       "   'streetname': None,\n",
       "   'streetwidth': None}],\n",
       " 'side': [{'id': 2514,\n",
       "   'geom': 'LINESTRING(28.617264691973105 -43.95516541833058,-71.07348113856278 -1.569100888911635)',\n",
       "   'azimuth': 5.114408284021454,\n",
       "   'length': 108.3273892907079,\n",
       "   'front': False,\n",
       "   'streetname': None,\n",
       "   'streetwidth': None},\n",
       "  {'id': 1320,\n",
       "   'geom': 'LINESTRING(62.6437825600151 40.73067328101024,-35.42330461344682 82.42678400641307)',\n",
       "   'azimuth': 5.114411618416073,\n",
       "   'length': 106.56321708878927,\n",
       "   'front': False,\n",
       "   'streetname': None,\n",
       "   'streetwidth': None}]}"
      ]
     },
     "execution_count": 46,
     "metadata": {},
     "output_type": "execute_result"
    }
   ],
   "source": [
    "zl.baseplane_elevation # approximate baseplane ht in feet\n",
    "zl.edges # dictionary of lot edges, classified by type\n",
    "# zl.type # not yet implemented"
   ]
  },
  {
   "cell_type": "code",
   "execution_count": 47,
   "id": "295e4c1d",
   "metadata": {},
   "outputs": [
    {
     "name": "stdout",
     "output_type": "stream",
     "text": [
      "conn strhost=0.0.0.0 port=25432 user=user dbname=nyc password=1234\n"
     ]
    }
   ],
   "source": [
    "bldgs = zl.load_buildings(use_as_envelope=False) # load_buildings returns a list, since possibly multiple buildings on the zoning lot"
   ]
  },
  {
   "cell_type": "code",
   "execution_count": 48,
   "id": "a1dec23a",
   "metadata": {},
   "outputs": [],
   "source": [
    "# get faces from building, process and render\n",
    "bldg = bldgs[0]\n",
    "bldg.bin\n",
    "bldg.envelope\n",
    "bldg.faces\n",
    "\n",
    "walls = [f for f in bldg.faces if f['wall']]\n",
    "lot_line_walls = [w for w in walls if w['lot_edge'] is not None]"
   ]
  },
  {
   "cell_type": "code",
   "execution_count": 49,
   "id": "ebd8018b",
   "metadata": {},
   "outputs": [
    {
     "name": "stdout",
     "output_type": "stream",
     "text": [
      "True\n",
      "0 --- 138.45346878788732\n",
      "True\n",
      "1 --- 205.39905642457072\n",
      "True\n",
      "2 --- 138.4534687878874\n",
      "True\n",
      "3 --- 205.39905642457072\n",
      "True\n",
      "4 --- 188.927828131435\n",
      "True\n",
      "5 --- 94.6491326531043\n",
      "True\n",
      "6 --- 153.21049384010604\n",
      "True\n",
      "7 --- 111.40191054020106\n",
      "True\n",
      "8 --- 88.97864007397796\n",
      "True\n",
      "9 --- 92.58121284103768\n",
      "True\n",
      "10 --- 301.07990925801914\n",
      "True\n",
      "11 --- 787.159289806189\n",
      "True\n",
      "12 --- 596.6143637761147\n",
      "True\n",
      "13 --- 2507.2789772970077\n",
      "True\n",
      "14 --- 2026.7023394957016\n",
      "True\n",
      "15 --- 1580.3035319476783\n",
      "True\n",
      "16 --- 724.7490152292185\n",
      "True\n",
      "17 --- 1580.2950615403934\n",
      "True\n",
      "18 --- 2123.474740746866\n",
      "True\n",
      "19 --- 2276.3817379443476\n",
      "True\n",
      "20 --- 666.2259864242457\n",
      "True\n",
      "21 --- 510.5652601588203\n",
      "True\n",
      "22 --- 137.74738634446607\n",
      "True\n",
      "23 --- 207.18212397445365\n",
      "True\n",
      "24 --- 343.2065556709687\n",
      "True\n",
      "25 --- 1689.0750454662784\n",
      "True\n",
      "26 --- 50.43308146247546\n",
      "True\n",
      "27 --- 50.43308146247546\n",
      "True\n",
      "28 --- 2488.3471280907866\n",
      "True\n",
      "29 --- 8.896378911064463\n",
      "True\n",
      "30 --- 1376.6893524463512\n",
      "True\n",
      "31 --- 1226.701766952054\n",
      "True\n",
      "32 --- 1038.1274956332168\n",
      "True\n",
      "33 --- 1395.0739096903658\n",
      "True\n",
      "34 --- 1220.733245153357\n",
      "True\n",
      "35 --- 2418.938834215397\n",
      "True\n",
      "36 --- 740.9508074655878\n",
      "True\n",
      "37 --- 1073.0098558339569\n"
     ]
    }
   ],
   "source": [
    "from geometry.conversion import wkt_to_occ, curve_to_face\n",
    "from geometry.measure import surface_area\n",
    "\n",
    "for i, w in enumerate(walls):\n",
    "    wall_crv = wkt_to_occ(w['geom'])\n",
    "    wall_face = curve_to_face(wall_crv)\n",
    "    area = surface_area(wall_face)\n",
    "    print(f'{i} --- {area}')"
   ]
  },
  {
   "cell_type": "code",
   "execution_count": 50,
   "id": "a14c7818",
   "metadata": {},
   "outputs": [],
   "source": [
    "# select a wall manually\n",
    "wall = walls[28]"
   ]
  },
  {
   "cell_type": "markdown",
   "id": "5ad9ca4a",
   "metadata": {},
   "source": [
    "using this wall, set up collection of (2d?) geometry objects needed for generation of the facade. first tried using oriented bounding box to establish, but turns out it's easier to create a face from the boundary curve and use an adaptor to access the generated plane and parameterization of the face rather than setting up from scratch (bbox params)"
   ]
  },
  {
   "cell_type": "code",
   "execution_count": 51,
   "id": "514ec30e",
   "metadata": {},
   "outputs": [],
   "source": [
    "from OCC.Core.BRepAdaptor import BRepAdaptor_Surface"
   ]
  },
  {
   "cell_type": "code",
   "execution_count": 52,
   "id": "8603615c",
   "metadata": {},
   "outputs": [],
   "source": [
    "from maths.domain import value_in_domain, scale_list, consecutive_domains, reparameterize_list, domain_length\n",
    "from geometry.conversion import curve_to_wire"
   ]
  },
  {
   "cell_type": "code",
   "execution_count": 53,
   "id": "fea9d438",
   "metadata": {},
   "outputs": [],
   "source": [
    "from OCC.Core.GeomAPI import (\n",
    "    GeomAPI_ProjectPointOnCurve,\n",
    "    geomapi_To2d,\n",
    "    geomapi_To3d,\n",
    ")"
   ]
  },
  {
   "cell_type": "code",
   "execution_count": 54,
   "id": "8f9f7a62",
   "metadata": {},
   "outputs": [
    {
     "name": "stdout",
     "output_type": "stream",
     "text": [
      "True\n"
     ]
    }
   ],
   "source": [
    "wall_crv = wkt_to_occ(wall['geom'])"
   ]
  },
  {
   "cell_type": "code",
   "execution_count": 55,
   "id": "3950299e",
   "metadata": {},
   "outputs": [],
   "source": [
    "# to generate these curves, we'll use UV parameters on a surface\n",
    "# the surface is provided by an adaptor from a face generated from the curve\n",
    "wall_face = curve_to_face(wall_crv)\n",
    "wall_srf = BRepAdaptor_Surface(wall_face)\n",
    "wall_pln = wall_srf.Plane()"
   ]
  },
  {
   "cell_type": "code",
   "execution_count": 17,
   "id": "010c537a",
   "metadata": {},
   "outputs": [],
   "source": [
    "# also set up a 2d outline curve to use for the drawing\n",
    "wallcrv_2d = geomapi_To2d(wall_crv, wall_pln)\n",
    "\n",
    "# this is the collection of 2d curves we'll build up as the facade drawing\n",
    "crvs_2d = [wallcrv_2d]"
   ]
  },
  {
   "cell_type": "code",
   "execution_count": 57,
   "id": "881852ab",
   "metadata": {},
   "outputs": [
    {
     "name": "stdout",
     "output_type": "stream",
     "text": [
      "36.88878528832899 x 60.758499999996275\n",
      "center at 76.3104500000045, baseplane at 46 ft\n",
      "ground at -30.310450000004494 in local space\n"
     ]
    }
   ],
   "source": [
    "# information about the face in 3d space\n",
    "u_min = wall_srf.FirstUParameter()\n",
    "u_max = wall_srf.LastUParameter()\n",
    "v_min = wall_srf.FirstVParameter()\n",
    "v_max = wall_srf.LastVParameter()\n",
    "width = abs(u_min) + abs(u_max)\n",
    "height = abs(v_min) + abs(v_max)\n",
    "elevation = wall_srf.Value(0, 0).Z()\n",
    "bp = zl.baseplane_elevation\n",
    "ground = bp - elevation\n",
    "\n",
    "print(f'{width} x {height}')\n",
    "print(f'center at {elevation}, baseplane at {bp} ft')\n",
    "print(f'ground at {ground} in local space')"
   ]
  },
  {
   "cell_type": "code",
   "execution_count": 58,
   "id": "b119b381",
   "metadata": {},
   "outputs": [
    {
     "data": {
      "text/plain": [
       "[(-18.0, -13.5), (-13.5, -4.5), (-4.5, 4.5), (4.5, 13.5), (13.5, 18.0)]"
      ]
     },
     "execution_count": 58,
     "metadata": {},
     "output_type": "execute_result"
    }
   ],
   "source": [
    "# generate u spans proportionally across domain\n",
    "pattern = [1, 2, 2, 2, 1]\n",
    "u_spans = consecutive_domains((-18.0, 18.0), pattern, False, False)\n",
    "u_spans"
   ]
  },
  {
   "cell_type": "code",
   "execution_count": 59,
   "id": "fb5cd57c",
   "metadata": {},
   "outputs": [
    {
     "data": {
      "text/plain": [
       "[(-30, -15), (-15, -5), (-5, 5), (5, 15)]"
      ]
     },
     "execution_count": 59,
     "metadata": {},
     "output_type": "execute_result"
    }
   ],
   "source": [
    "# generate v spans in absolute units (floor-floor heights)\n",
    "pattern = [15, 10, 10, 10]\n",
    "v_spans = consecutive_domains((-30, 30), pattern, False, True)\n",
    "v_spans"
   ]
  },
  {
   "cell_type": "code",
   "execution_count": 60,
   "id": "64f845c9",
   "metadata": {},
   "outputs": [],
   "source": [
    "uv_spans = (u_spans, v_spans)"
   ]
  },
  {
   "cell_type": "code",
   "execution_count": 61,
   "id": "776e53c5",
   "metadata": {},
   "outputs": [],
   "source": [
    "def coords_from_grid(local_coords, grid, cell, absolute=False):\n",
    "\n",
    "    local_u = grid[0][cell[0]]\n",
    "    local_v = grid[1][cell[1]]\n",
    "\n",
    "    coords = coords_from_grid_cell(local_coords, local_u, local_v)\n",
    "\n",
    "    return coords\n",
    "\n",
    "\n",
    "def coords_from_grid_cell(local_coords, u_domain, v_domain, absolute=False):\n",
    "    grid_u = value_in_domain(local_coords[0], u_domain, param_domain=(-1, 1))\n",
    "    grid_v = value_in_domain(local_coords[1], v_domain, param_domain=(0, 1))\n",
    "    \n",
    "    coords = (grid_u, grid_v)\n",
    "\n",
    "    return coords\n"
   ]
  },
  {
   "cell_type": "code",
   "execution_count": 62,
   "id": "e9b458a1",
   "metadata": {},
   "outputs": [
    {
     "data": {
      "text/plain": [
       "[(-9.0, -18.0),\n",
       " (-9.0, -7.0),\n",
       " (-9.0, 3.0),\n",
       " (-9.0, 13.0),\n",
       " (0.0, -18.0),\n",
       " (0.0, -7.0),\n",
       " (0.0, 3.0),\n",
       " (0.0, 13.0),\n",
       " (9.0, -18.0),\n",
       " (9.0, -7.0),\n",
       " (9.0, 3.0),\n",
       " (9.0, 13.0)]"
      ]
     },
     "execution_count": 62,
     "metadata": {},
     "output_type": "execute_result"
    }
   ],
   "source": [
    "# get the midpoint of each cell in the grid\n",
    "# checking to make sure the element fits\n",
    "coords = []\n",
    "\n",
    "for u in uv_spans[0]:\n",
    "    u_length = domain_length(u)\n",
    "    for v in uv_spans[1]:\n",
    "        v_length = domain_length(v)\n",
    "        if u_length > 5.0 and v_length > 5.0:\n",
    "            coord = coords_from_grid_cell((0, 0.8), u, v)\n",
    "            coords.append(coord)\n",
    "\n",
    "coords"
   ]
  },
  {
   "cell_type": "code",
   "execution_count": 63,
   "id": "a6d8c199",
   "metadata": {},
   "outputs": [],
   "source": [
    "from geometry.conversion import coords_to_curve\n",
    "from OCC.Core.gp import gp_Vec2d, gp_Trsf2d\n"
   ]
  },
  {
   "cell_type": "code",
   "execution_count": 64,
   "id": "15b47d13",
   "metadata": {},
   "outputs": [],
   "source": [
    "# for each point in the generated coordinates from the grid,\n",
    "# add a generated shape to the \"drawing\" (list of 2d curves)\n",
    "for c in coords:\n",
    "    window = coords_to_curve([(-2, 0), (2, 0), (2, -4), (-2, -4), (-2, 0)], z=False)\n",
    "    vec = gp_Vec2d(*c) # translate from 0, 0 to the grid point from above\n",
    "    window.Translate(vec)\n",
    "    crvs_2d.append(window)"
   ]
  },
  {
   "cell_type": "code",
   "execution_count": 65,
   "id": "81e73a39",
   "metadata": {},
   "outputs": [],
   "source": [
    "# flip back to 3d space using face plane\n",
    "crvs_3d = [geomapi_To3d(c, wall_pln) for c in crvs_2d]"
   ]
  },
  {
   "cell_type": "code",
   "execution_count": 66,
   "id": "e2d7efae",
   "metadata": {},
   "outputs": [],
   "source": [
    "# convert 3d curves to wires for rendering\n",
    "crv_wires = [curve_to_wire(c) for c in crvs_3d]"
   ]
  },
  {
   "cell_type": "code",
   "execution_count": 28,
   "id": "946ba860",
   "metadata": {},
   "outputs": [],
   "source": [
    "# OCC renderer\n",
    "# renderer = JupyterRenderer()"
   ]
  },
  {
   "cell_type": "code",
   "execution_count": 30,
   "id": "f325538a",
   "metadata": {},
   "outputs": [],
   "source": [
    "# display the current envelope, based on the existing building(s)\n",
    "# renderer.DisplayShape(crv_wires[5], render_edges=True, topo_level=\"Face\", shape_color=\"#abdda4\", update=True)"
   ]
  },
  {
   "cell_type": "markdown",
   "id": "champion-excuse",
   "metadata": {},
   "source": [
    "## Export to STEP file\n",
    "\n",
    "(can be opened with Rhino)"
   ]
  },
  {
   "cell_type": "code",
   "execution_count": 31,
   "id": "handmade-sauce",
   "metadata": {},
   "outputs": [
    {
     "data": {
      "text/plain": [
       "1"
      ]
     },
     "execution_count": 31,
     "metadata": {},
     "output_type": "execute_result"
    }
   ],
   "source": [
    "from connectors.step import shapes_to_step\n",
    "\n",
    "shapes_to_step(crv_wires, \"/Users/carsten/Desktop/facades.stp\")"
   ]
  }
 ],
 "metadata": {
  "kernelspec": {
   "display_name": "Python 3",
   "language": "python",
   "name": "python3"
  },
  "language_info": {
   "codemirror_mode": {
    "name": "ipython",
    "version": 3
   },
   "file_extension": ".py",
   "mimetype": "text/x-python",
   "name": "python",
   "nbconvert_exporter": "python",
   "pygments_lexer": "ipython3",
   "version": "3.8.6"
  }
 },
 "nbformat": 4,
 "nbformat_minor": 5
}
