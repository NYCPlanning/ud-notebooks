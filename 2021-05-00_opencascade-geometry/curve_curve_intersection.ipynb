{
 "cells": [
  {
   "cell_type": "code",
   "execution_count": 1,
   "metadata": {},
   "outputs": [],
   "source": [
    "from OCC.Core.Geom import Geom_OffsetCurve\n",
    "from OCC.Core.gp import gp_Pnt, gp_Vec, gp_Dir, gp_Ax2, gp_Pln, gp_Pnt2d\n",
    "\n",
    "from OCC.Core.Geom2d import Geom2d_OffsetCurve\n",
    "from OCC.Core.Geom2dAPI import (\n",
    "    Geom2dAPI_Interpolate, \n",
    "    Geom2dAPI_PointsToBSpline,\n",
    "    Geom2dAPI_InterCurveCurve,\n",
    "    Geom2dAPI_ProjectPointOnCurve,\n",
    "    Geom2dAPI_ExtremaCurveCurve,\n",
    ")\n",
    "from OCC.Core.GeomAPI import (\n",
    "    geomapi_To3d,\n",
    "    geomapi_To2d,\n",
    "    GeomAPI_PointsToBSpline,\n",
    "    GeomAPI_Interpolate, \n",
    "    GeomAPI_PointsToBSplineSurface,\n",
    "    GeomAPI_ProjectPointOnCurve,\n",
    ")\n",
    "\n",
    "from OCC.Core.TColgp import TColgp_HArray1OfPnt2d, TColgp_Array1OfPnt2d\n",
    "\n",
    "\n",
    "from OCC.Display.WebGl.jupyter_renderer import JupyterRenderer\n"
   ]
  },
  {
   "cell_type": "code",
   "execution_count": 2,
   "metadata": {},
   "outputs": [
    {
     "ename": "NameError",
     "evalue": "name 'sys' is not defined",
     "output_type": "error",
     "traceback": [
      "\u001b[0;31m-----------------------------------------------------------------\u001b[0m",
      "\u001b[0;31mNameError\u001b[0m                       Traceback (most recent call last)",
      "\u001b[0;32m<ipython-input-2-9a2958b801f8>\u001b[0m in \u001b[0;36m<module>\u001b[0;34m\u001b[0m\n\u001b[1;32m      1\u001b[0m \u001b[0;31m# add udtools core modules to path\u001b[0m\u001b[0;34m\u001b[0m\u001b[0;34m\u001b[0m\u001b[0;34m\u001b[0m\u001b[0m\n\u001b[1;32m      2\u001b[0m \u001b[0mmodule_path\u001b[0m \u001b[0;34m=\u001b[0m \u001b[0;34m'../python/'\u001b[0m\u001b[0;34m\u001b[0m\u001b[0;34m\u001b[0m\u001b[0m\n\u001b[0;32m----> 3\u001b[0;31m \u001b[0;32mif\u001b[0m \u001b[0mmodule_path\u001b[0m \u001b[0;32mnot\u001b[0m \u001b[0;32min\u001b[0m \u001b[0msys\u001b[0m\u001b[0;34m.\u001b[0m\u001b[0mpath\u001b[0m\u001b[0;34m:\u001b[0m\u001b[0;34m\u001b[0m\u001b[0;34m\u001b[0m\u001b[0m\n\u001b[0m\u001b[1;32m      4\u001b[0m     \u001b[0msys\u001b[0m\u001b[0;34m.\u001b[0m\u001b[0mpath\u001b[0m\u001b[0;34m.\u001b[0m\u001b[0mappend\u001b[0m\u001b[0;34m(\u001b[0m\u001b[0mmodule_path\u001b[0m\u001b[0;34m)\u001b[0m\u001b[0;34m\u001b[0m\u001b[0;34m\u001b[0m\u001b[0m\n",
      "\u001b[0;31mNameError\u001b[0m: name 'sys' is not defined"
     ]
    }
   ],
   "source": [
    "# add udtools core modules to path\n",
    "module_path = '../python/'\n",
    "if module_path not in sys.path:\n",
    "    sys.path.append(module_path)"
   ]
  },
  {
   "cell_type": "code",
   "execution_count": 3,
   "metadata": {},
   "outputs": [],
   "source": [
    "from geometry.curve import curve_fit_to_bounds, extrema_nearest_pt\n",
    "from geometry.conversion import coords_to_curve, wkt_to_occ, curve_to_wire, pts_to_curve\n",
    "from geometry.reference import world_pos_z, world_xy"
   ]
  },
  {
   "cell_type": "code",
   "execution_count": 4,
   "metadata": {},
   "outputs": [],
   "source": [
    "bounds_wkt = 'POLYGON((-33.1094805712346 24.42985526434495,-46.22362966486253 -23.632720552763203,-147.7965995783452 3.889560617128154,-141.0705573076848 28.540102876344463,-134.68245048471726 51.951466001191875,-33.1094805712346 24.42985526434495))'\n",
    "\n",
    "curve_1_wkt = 'LINESTRING(-141.0705573076848 28.540102876344463,-147.7965995783452 3.889560617128154)'\n",
    "\n",
    "curve_2_wkt = 'LINESTRING(-134.68245048471726 51.951466001191875,-141.0705573076848 28.540102876344463)'"
   ]
  },
  {
   "cell_type": "code",
   "execution_count": 5,
   "metadata": {},
   "outputs": [
    {
     "name": "stdout",
     "output_type": "stream",
     "text": [
      "got wkt: POLYGON((-33.1094805712346 24.42985526434495,-46.22362966486253 -23.632720552763203,-147.7965995783452 3.889560617128154,-141.0705573076848 28.540102876344463,-134.68245048471726 51.951466001191875,-33.1094805712346 24.42985526434495))\n",
      "[(-33.1094805712346, 24.42985526434495, 0), (-46.22362966486253, -23.632720552763203, 0), (-147.7965995783452, 3.889560617128154, 0), (-141.0705573076848, 28.540102876344463, 0), (-134.68245048471726, 51.951466001191875, 0), (-33.1094805712346, 24.42985526434495, 0)]\n",
      "result was\n",
      "<class 'Geom_BSplineCurve'>\n",
      "got wkt: LINESTRING(-141.0705573076848 28.540102876344463,-147.7965995783452 3.889560617128154)\n",
      "[(-141.0705573076848, 28.540102876344463, 0), (-147.7965995783452, 3.889560617128154, 0)]\n",
      "result was\n",
      "<class 'Geom_BSplineCurve'>\n"
     ]
    }
   ],
   "source": [
    "bounds = wkt_to_occ(bounds_wkt)\n",
    "curve = wkt_to_occ(curve_1_wkt)\n",
    "\n",
    "bounds_2d = geomapi_To2d(bounds, world_xy)\n",
    "curve_2d = geomapi_To2d(curve, world_xy)\n",
    "offset_2d = Geom2d_OffsetCurve(curve_2d, -20.0)"
   ]
  },
  {
   "cell_type": "code",
   "execution_count": 6,
   "metadata": {},
   "outputs": [],
   "source": [
    "#offset_3d = geomapi_To3d(offset_2d, world_xy) # can't convert 2d offset curve to 3d"
   ]
  },
  {
   "cell_type": "code",
   "execution_count": 7,
   "metadata": {},
   "outputs": [
    {
     "name": "stdout",
     "output_type": "stream",
     "text": [
      "1\n"
     ]
    }
   ],
   "source": [
    "intersections = Geom2dAPI_InterCurveCurve(bounds_2d, offset_2d) # intersections within 50'\n",
    "ix_count = intersections.NbPoints() # based on point count...\n",
    "print(ix_count)"
   ]
  },
  {
   "cell_type": "code",
   "execution_count": 8,
   "metadata": {},
   "outputs": [],
   "source": [
    "extrema_pts = []"
   ]
  },
  {
   "cell_type": "code",
   "execution_count": 9,
   "metadata": {},
   "outputs": [
    {
     "name": "stdout",
     "output_type": "stream",
     "text": [
      "1\n",
      "(-115.37865024993674, 46.72102254506366)\n"
     ]
    }
   ],
   "source": [
    "# test on \"before\" portion of offset curve, p=1 to p=2\n",
    "extrema = Geom2dAPI_ExtremaCurveCurve(offset_2d, bounds_2d, -1, 0, 0, 1)\n",
    "ex_count = extrema.NbExtrema()\n",
    "print(ex_count)\n",
    "offset_pt = gp_Pnt2d()\n",
    "bounds_pt = gp_Pnt2d()\n",
    "ex1_pts = extrema.NearestPoints(offset_pt, bounds_pt)\n",
    "print(bounds_pt.Coord())\n",
    "extrema_pts.append(bounds_pt)"
   ]
  },
  {
   "cell_type": "code",
   "execution_count": 10,
   "metadata": {},
   "outputs": [
    {
     "name": "stdout",
     "output_type": "stream",
     "text": [
      "(-115.37865024993674, 46.72102254506366)\n"
     ]
    }
   ],
   "source": [
    "extrema_test_pt = extrema_nearest_pt(offset_2d, bounds_2d, 0)\n",
    "print(extrema_test_pt.Coord())"
   ]
  },
  {
   "cell_type": "code",
   "execution_count": 11,
   "metadata": {},
   "outputs": [
    {
     "name": "stdout",
     "output_type": "stream",
     "text": [
      "1\n",
      "(-128.49266251729267, -1.3410473283982185)\n"
     ]
    }
   ],
   "source": [
    "# test on \"beyond\" portion of offset curve, p=1 to p=2\n",
    "extrema = Geom2dAPI_ExtremaCurveCurve(offset_2d, bounds_2d, 1, 2, 0, 1)\n",
    "ex_count = extrema.NbExtrema()\n",
    "print(ex_count)\n",
    "offset_pt = gp_Pnt2d()\n",
    "bounds_pt = gp_Pnt2d()\n",
    "ex1_pts = extrema.NearestPoints(offset_pt, bounds_pt)\n",
    "print(bounds_pt.Coord())\n",
    "extrema_pts.append(bounds_pt)"
   ]
  },
  {
   "cell_type": "code",
   "execution_count": 12,
   "metadata": {},
   "outputs": [
    {
     "data": {
      "text/plain": [
       "[<class 'gp_Pnt2d'>, <class 'gp_Pnt2d'>]"
      ]
     },
     "execution_count": 12,
     "metadata": {},
     "output_type": "execute_result"
    }
   ],
   "source": [
    "extrema_pts"
   ]
  },
  {
   "cell_type": "code",
   "execution_count": 13,
   "metadata": {},
   "outputs": [],
   "source": [
    "# projections = set()\n",
    "\n",
    "# for p in range(0, 2):\n",
    "#     print(p)\n",
    "#     test_pt = curve_2d.Value(p)\n",
    "#     projection = Geom2dAPI_ProjectPointOnCurve(test_pt, )"
   ]
  },
  {
   "cell_type": "code",
   "execution_count": 14,
   "metadata": {},
   "outputs": [],
   "source": [
    "ix_pts = []\n",
    "for i in range(1, ix_count + 1):\n",
    "    ix_pts.append(intersections.Point(i))\n",
    "\n",
    "orig_pts = [offset_2d.Value(0), offset_2d.Value(1)]"
   ]
  },
  {
   "cell_type": "code",
   "execution_count": 15,
   "metadata": {},
   "outputs": [],
   "source": [
    "# ix_curve = pts_to_curve(ix_pts, z=False)\n",
    "orig_curve = pts_to_curve(orig_pts, z=False)\n",
    "extrema_curve = pts_to_curve(extrema_pts, z=False)"
   ]
  },
  {
   "cell_type": "code",
   "execution_count": 16,
   "metadata": {},
   "outputs": [],
   "source": [
    "# orig_curve_3d = geomapi_To3d(orig_curve, world_xy)\n",
    "# ix_curve_3d = geomapi_To3d(ix_curve, world_xy)\n",
    "extrema_curve_3d = geomapi_To3d(extrema_curve, world_xy)"
   ]
  },
  {
   "cell_type": "code",
   "execution_count": 17,
   "metadata": {},
   "outputs": [
    {
     "data": {
      "text/plain": [
       "OCC.Core.Geom.Geom_BSplineCurve"
      ]
     },
     "execution_count": 17,
     "metadata": {},
     "output_type": "execute_result"
    }
   ],
   "source": [
    "type(bounds)"
   ]
  },
  {
   "cell_type": "code",
   "execution_count": 18,
   "metadata": {},
   "outputs": [
    {
     "data": {
      "text/plain": [
       "<class 'Geom_Curve'>"
      ]
     },
     "execution_count": 18,
     "metadata": {},
     "output_type": "execute_result"
    }
   ],
   "source": [
    "# test the revised function\n",
    "result = curve_fit_to_bounds(offset_2d, bounds_2d)\n",
    "result\n"
   ]
  },
  {
   "cell_type": "code",
   "execution_count": 22,
   "metadata": {},
   "outputs": [],
   "source": [
    "# set up renderer\n",
    "renderer = JupyterRenderer()"
   ]
  },
  {
   "cell_type": "code",
   "execution_count": 23,
   "metadata": {},
   "outputs": [
    {
     "data": {
      "application/vnd.jupyter.widget-view+json": {
       "model_id": "5a77a14dae924dbc97927331bd190521",
       "version_major": 2,
       "version_minor": 0
      },
      "text/plain": [
       "HBox(children=(VBox(children=(HBox(children=(Checkbox(value=True, description='Axes', layout=Layout(height='au…"
      ]
     },
     "metadata": {},
     "output_type": "display_data"
    }
   ],
   "source": [
    "renderer.DisplayShape(curve_to_wire(bounds), render_edges=True, topo_level=\"default\", shape_color=\"#abdda4\", update=True)\n",
    "\n",
    "renderer.DisplayShape(curve_to_wire(result), render_edges=True)\n",
    "# renderer.DisplayShape(curve_to_wire(extrema_curve_3d), render_edges=True)"
   ]
  }
 ],
 "metadata": {
  "kernelspec": {
   "display_name": "Python 3",
   "language": "python",
   "name": "python3"
  },
  "language_info": {
   "codemirror_mode": {
    "name": "ipython",
    "version": 3
   },
   "file_extension": ".py",
   "mimetype": "text/x-python",
   "name": "python",
   "nbconvert_exporter": "python",
   "pygments_lexer": "ipython3",
   "version": "3.8.6"
  }
 },
 "nbformat": 4,
 "nbformat_minor": 2
}
