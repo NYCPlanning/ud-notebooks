{
 "cells": [
  {
   "cell_type": "code",
   "execution_count": 1,
   "metadata": {},
   "outputs": [],
   "source": [
    "from ipyleaflet import (\n",
    "    Map,\n",
    "    Marker,\n",
    "    TileLayer, ImageOverlay,\n",
    "    Polyline, Polygon, Rectangle, Circle, CircleMarker,\n",
    "    GeoJSON,\n",
    "    DrawControl,\n",
    "    projections\n",
    ")\n",
    "from ipywidgets import FloatSlider, HBox, VBox\n",
    "from OCC.Display.WebGl.jupyter_renderer import JupyterRenderer"
   ]
  },
  {
   "cell_type": "code",
   "execution_count": 2,
   "metadata": {},
   "outputs": [],
   "source": [
    "# add udtools core modules to path\n",
    "module_path = '../python/'\n",
    "if module_path not in sys.path:\n",
    "    sys.path.append(module_path)"
   ]
  },
  {
   "cell_type": "code",
   "execution_count": 3,
   "metadata": {},
   "outputs": [],
   "source": [
    "# import udtools modules\n",
    "from models.zoninglot import ZoningLot\n",
    "from models.site import Site\n",
    "from models.scenario import Scenario"
   ]
  },
  {
   "cell_type": "markdown",
   "metadata": {},
   "source": [
    "# Interactive Zoning\n",
    "\n",
    "This notebook builds on the non-interactive `zoning.ipynb` and introduces the ability to pick lots from a map and adjust zoning parameters."
   ]
  },
  {
   "cell_type": "code",
   "execution_count": 6,
   "metadata": {},
   "outputs": [],
   "source": [
    "# set up an interactive map to pick study area\n",
    "center = [40.809617674105, -73.908714998524]\n",
    "zoom = 16\n",
    "\n",
    "bounds = None\n",
    "bounds_nysp = None\n",
    "bounds_center = None\n",
    "bounds_center_nysp = None\n",
    "\n",
    "m = Map(crs=projections.EPSG3857, center=center, zoom=zoom)\n",
    "\n",
    "dc = DrawControl(\n",
    "    marker={'shapeOptions': {'color': '#0000FF'}},\n",
    "    rectangle={'shapeOptions': {'color': '#0000FF'}},\n",
    "    circle={'shapeOptions': {'color': '#0000FF'}},\n",
    "    circlemarker={},\n",
    ")\n",
    "\n",
    "def set_bounds(b):\n",
    "    global bounds, bounds_nysp, bounds_center, bounds_center_nysp\n",
    "    bounds = b\n",
    "    bounds_center = bounds.representative_point()\n",
    "    bounds_nysp = transform(wgs84_to_nystateplane, bounds)\n",
    "    bounds_center_nysp = transform(wgs84_to_nystateplane, bounds_center)\n",
    "    print(bounds_nysp)\n",
    "\n",
    "def handle_draw(target, action, geo_json):\n",
    "    bounds = shape(dc.last_draw['geometry'])\n",
    "    print(bounds.wkt)\n",
    "    set_bounds(bounds)\n",
    "\n",
    "dc.on_draw(handle_draw)\n",
    "m.add_control(dc)\n",
    "\n",
    "\n"
   ]
  },
  {
   "cell_type": "code",
   "execution_count": 7,
   "metadata": {},
   "outputs": [
    {
     "data": {
      "application/vnd.jupyter.widget-view+json": {
       "model_id": "e7417abfc6f140f59da3c28fd4f38c30",
       "version_major": 2,
       "version_minor": 0
      },
      "text/plain": [
       "Map(center=[40.809617674105, -73.908714998524], controls=(ZoomControl(options=['position', 'zoom_in_text', 'zo…"
      ]
     },
     "metadata": {},
     "output_type": "display_data"
    }
   ],
   "source": [
    "m"
   ]
  },
  {
   "cell_type": "code",
   "execution_count": null,
   "metadata": {},
   "outputs": [],
   "source": [
    "\n",
    "v1=10.\n",
    "v2=20.\n",
    "\n",
    "v1_slider, v2_slider = (FloatSlider(description='v1', min=10., max=40., step=0.01, value=v1,\n",
    "                                            continuous_update=False, orientation='vertical'),\n",
    "                        FloatSlider(description='v2', min=10., max=40., step=0.01, value=v2,\n",
    "                                            continuous_update=False, orientation='vertical'))\n",
    "def update(change):\n",
    "    box_shp = make_box(10., v1_slider.value, v2_slider.value)\n",
    "    my_renderer.DisplayShape(box_shp)\n",
    "    \n",
    "v1_slider.observe(update, names=['value'])\n",
    "v2_slider.observe(update, names=['value'])"
   ]
  },
  {
   "cell_type": "code",
   "execution_count": null,
   "metadata": {},
   "outputs": [],
   "source": [
    "# show the map\n",
    "#m"
   ]
  },
  {
   "cell_type": "code",
   "execution_count": null,
   "metadata": {},
   "outputs": [],
   "source": [
    "# or from interactive map (uncomment)\n",
    "# set_bounds(shape(dc.last_draw['geometry']))"
   ]
  },
  {
   "cell_type": "code",
   "execution_count": null,
   "metadata": {},
   "outputs": [],
   "source": [
    "HBox([renderer_2._renderer, v1_slider, v2_slider])"
   ]
  }
 ],
 "metadata": {
  "kernelspec": {
   "display_name": "Python 3",
   "language": "python",
   "name": "python3"
  },
  "language_info": {
   "codemirror_mode": {
    "name": "ipython",
    "version": 3
   },
   "file_extension": ".py",
   "mimetype": "text/x-python",
   "name": "python",
   "nbconvert_exporter": "python",
   "pygments_lexer": "ipython3",
   "version": "3.9.4"
  }
 },
 "nbformat": 4,
 "nbformat_minor": 4
}
