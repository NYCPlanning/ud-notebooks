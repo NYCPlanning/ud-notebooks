{
 "cells": [
  {
   "cell_type": "markdown",
   "metadata": {},
   "source": [
    "# Roof Pitch from LiDAR\n",
    "\n",
    "This notebook outlines an approach to deriving roof pitch from LiDAR data."
   ]
  },
  {
   "cell_type": "code",
   "execution_count": 24,
   "metadata": {},
   "outputs": [],
   "source": [
    "import os\n",
    "from dotenv import load_dotenv, find_dotenv\n",
    "from geoalchemy2 import Geometry, WKTElement\n",
    "import geopandas as gpd\n",
    "import ipyleaflet\n",
    "import ipyvolume as ipv\n",
    "import json\n",
    "import numpy as np\n",
    "import numpy.linalg as la\n",
    "import pandas as pd\n",
    "import pdal\n",
    "import pyproj\n",
    "import pythreejs\n",
    "import scipy\n",
    "from shapely.geometry import shape\n",
    "from shapely.ops import transform\n",
    "from sqlalchemy import *"
   ]
  },
  {
   "cell_type": "code",
   "execution_count": 2,
   "metadata": {
    "tags": []
   },
   "outputs": [],
   "source": [
    "def angle_between(v1, v2, degrees=False):\n",
    "    cosang = np.dot(v1, v2)\n",
    "    sinang = la.norm(np.cross(v1, v2))\n",
    "    angle_rad = np.arctan2(sinang, cosang)\n",
    "    multiplier = 1 if not degrees else 57.2958\n",
    "    return angle_rad * multiplier"
   ]
  },
  {
   "cell_type": "code",
   "execution_count": 3,
   "metadata": {},
   "outputs": [],
   "source": [
    "# query postgis to retrieve points\n",
    "load_dotenv(find_dotenv())\n",
    "conn_vars = ['PG_USER', 'PG_PASS', 'PG_HOST', 'PG_PORT', 'PG_DB']\n",
    "user, password, host, port, dbname = [os.getenv(var) for var in conn_vars]\n",
    "conn_string = f'postgresql+psycopg2://{user}:{password}@{host}:{port}/{dbname}'"
   ]
  },
  {
   "cell_type": "code",
   "execution_count": 20,
   "metadata": {},
   "outputs": [],
   "source": [
    "engine = create_engine(conn_string, connect_args={'connect_timeout': 10})"
   ]
  },
  {
   "cell_type": "code",
   "execution_count": 6,
   "metadata": {},
   "outputs": [],
   "source": [
    "m = ipyleaflet.Map(center=(40.675648, -73.990721), zoom=16)\n",
    "dc = ipyleaflet.DrawControl()\n",
    "m.add_control(dc)"
   ]
  },
  {
   "cell_type": "code",
   "execution_count": 7,
   "metadata": {},
   "outputs": [
    {
     "data": {
      "application/vnd.jupyter.widget-view+json": {
       "model_id": "ae3f4b83d4874e48bd4b9e0153d9ac97",
       "version_major": 2,
       "version_minor": 0
      },
      "text/plain": [
       "Map(center=[40.675648, -73.990721], controls=(ZoomControl(options=['position', 'zoom_in_text', 'zoom_in_title'…"
      ]
     },
     "metadata": {},
     "output_type": "display_data"
    }
   ],
   "source": [
    "m"
   ]
  },
  {
   "cell_type": "code",
   "execution_count": 14,
   "metadata": {
    "tags": []
   },
   "outputs": [
    {
     "name": "stderr",
     "output_type": "stream",
     "text": [
      "/Users/carsten/miniconda3/envs/gis/lib/python3.9/site-packages/pyproj/crs/crs.py:68: FutureWarning: '+init=<authority>:<code>' syntax is deprecated. '<authority>:<code>' is the preferred initialization method. When making the change, be mindful of axis order changes: https://pyproj4.github.io/pyproj/stable/gotchas.html#axis-order-changes-in-proj-6\n",
      "  return _prepare_from_string(\" \".join(pjargs))\n",
      "/Users/carsten/miniconda3/envs/gis/lib/python3.9/site-packages/pyproj/crs/crs.py:306: FutureWarning: '+init=<authority>:<code>' syntax is deprecated. '<authority>:<code>' is the preferred initialization method. When making the change, be mindful of axis order changes: https://pyproj4.github.io/pyproj/stable/gotchas.html#axis-order-changes-in-proj-6\n",
      "  projstring = _prepare_from_string(\" \".join((projstring, projkwargs)))\n",
      "/Users/carsten/miniconda3/envs/gis/lib/python3.9/site-packages/pyproj/crs/crs.py:68: FutureWarning: '+init=<authority>:<code>' syntax is deprecated. '<authority>:<code>' is the preferred initialization method. When making the change, be mindful of axis order changes: https://pyproj4.github.io/pyproj/stable/gotchas.html#axis-order-changes-in-proj-6\n",
      "  return _prepare_from_string(\" \".join(pjargs))\n",
      "/Users/carsten/miniconda3/envs/gis/lib/python3.9/site-packages/pyproj/crs/crs.py:306: FutureWarning: '+init=<authority>:<code>' syntax is deprecated. '<authority>:<code>' is the preferred initialization method. When making the change, be mindful of axis order changes: https://pyproj4.github.io/pyproj/stable/gotchas.html#axis-order-changes-in-proj-6\n",
      "  projstring = _prepare_from_string(\" \".join((projstring, projkwargs)))\n"
     ]
    }
   ],
   "source": [
    "# get site bounds reprojected as epsg 2263\n",
    "project = pyproj.Transformer.from_proj(\n",
    "    pyproj.Proj(init='epsg:4326'),\n",
    "    pyproj.Proj(init='epsg:2263')\n",
    ")\n",
    "\n",
    "map_bounds = dc.last_draw['geometry']\n",
    "site_bounds_object = transform(project.transform, shape(map_bounds))\n",
    "site_bounds = site_bounds_object.wkt\n",
    "marker_size = m.zoom * 0.125"
   ]
  },
  {
   "cell_type": "code",
   "execution_count": 15,
   "metadata": {},
   "outputs": [
    {
     "data": {
      "text/plain": [
       "'POLYGON ((986797.1476360431 185704.5426588609, 986928.0794027386 185627.3191867732, 986868.4536384025 185526.7576581136, 986731.6965641689 185603.6165113914, 986797.1476360431 185704.5426588609))'"
      ]
     },
     "execution_count": 15,
     "metadata": {},
     "output_type": "execute_result"
    }
   ],
   "source": [
    "site_bounds"
   ]
  },
  {
   "cell_type": "markdown",
   "metadata": {},
   "source": [
    "In order to get eigenvalues and normals needed for classification and mesh separation, the points need to be imported through PDAL rather than straight from PostGIS to a dataframe:"
   ]
  },
  {
   "cell_type": "code",
   "execution_count": 23,
   "metadata": {
    "tags": []
   },
   "outputs": [
    {
     "name": "stdout",
     "output_type": "stream",
     "text": [
      "CPU times: user 516 ms, sys: 82.2 ms, total: 598 ms\n",
      "Wall time: 4.31 s\n"
     ]
    }
   ],
   "source": [
    "# get lidar points using PDAL\n",
    "pipeline_def = {\n",
    "    \"pipeline\": [\n",
    "        {\n",
    "            \"type\":\"readers.pgpointcloud\",\n",
    "            \"connection\": f'host={host} dbname={dbname} user={user} password={password} port={port}',\n",
    "            \"table\": \"pointcloud\",\n",
    "            \"column\": \"pa\",\n",
    "            \"spatialreference\": \"EPSG:2263\",\n",
    "            \"where\": f\"PC_Intersects(pa, ST_GeomFromText('{site_bounds}',2263))\"\n",
    "        },\n",
    "        {\n",
    "            \"type\":\"filters.crop\",\n",
    "            \"polygon\": f\"{site_bounds}\",\n",
    "            \"distance\": 500\n",
    "        },\n",
    "        {   \"type\":\"filters.hag_nn\"},\n",
    "        {   \"type\":\"filters.eigenvalues\",\n",
    "            \"knn\":16},\n",
    "        {   \"type\":\"filters.normal\",\n",
    "            \"knn\":16}\n",
    "    ]\n",
    "}\n",
    "pipeline = pdal.Pipeline(json.dumps(pipeline_def))\n",
    "pipeline.validate()\n",
    "%time n_points = pipeline.execute()"
   ]
  },
  {
   "cell_type": "code",
   "execution_count": null,
   "metadata": {},
   "outputs": [],
   "source": [
    "arr = pipeline.arrays[0]\n",
    "description = arr.dtype.descr\n",
    "cols = [col for col, __ in description]\n",
    "df = pd.DataFrame({col: arr[col] for col in cols})"
   ]
  },
  {
   "cell_type": "code",
   "execution_count": null,
   "metadata": {},
   "outputs": [],
   "source": [
    "# \"zero\" all coordinates for visualization\n",
    "df['X_0'] = df['X'] - df['X'].min()\n",
    "df['Y_0'] = df['Y'] - df['Y'].min()\n",
    "df['Z_0'] = df['Z'] - df['Z'].min()\n"
   ]
  },
  {
   "cell_type": "code",
   "execution_count": null,
   "metadata": {},
   "outputs": [],
   "source": [
    "# z and y coordinates are swapped here to use the orientation convention of ipyvolume\n",
    "fig = ipv.figure()\n",
    "\n",
    "# control = pythreejs.OrbitControls(controlling=fig.camera)\n",
    "# fig.controls = control\n",
    "# control.autoRotate = True\n",
    "fig.render_continuous = True\n",
    "\n",
    "scatter = ipv.scatter(\n",
    "    df['X_0'].to_numpy(),\n",
    "    df['Y_0'].to_numpy(), \n",
    "    df['Z_0'].to_numpy(), \n",
    "    marker='box', \n",
    "    size=marker_size/2,\n",
    "    color='lightgray')\n",
    "\n",
    "ipv.squarelim()\n",
    "# ipv.style.box_off()\n",
    "# ipv.style.axes_off()\n",
    "ipv.show()"
   ]
  },
  {
   "cell_type": "code",
   "execution_count": null,
   "metadata": {},
   "outputs": [],
   "source": [
    "# filter out trees & vegetation\n",
    "df['tree'] = (df['Classification']==1) & (df['HeightAboveGround'] >= 2) & (df['Eigenvalue0'] > .3) &  (df['NumberOfReturns'] - df['ReturnNumber'] >= 1)\n",
    "\n",
    "tree = ipv.scatter(\n",
    "    df.loc[df['tree'], 'X_0'].to_numpy(),\n",
    "    df.loc[df['tree'], 'Y_0'].to_numpy(),\n",
    "    df.loc[df['tree'], 'Z_0'].to_numpy(),\n",
    "    marker='box', \n",
    "    size=marker_size)\n",
    "\n",
    "nontree = ipv.scatter(\n",
    "    df.loc[-df['tree'], 'X_0'].to_numpy(),\n",
    "    df.loc[-df['tree'], 'Y_0'].to_numpy(),\n",
    "    df.loc[-df['tree'], 'Z_0'].to_numpy(),\n",
    "    marker='box', \n",
    "    size=marker_size/2)\n",
    "\n",
    "tree.color='darkgreen'\n",
    "nontree.color='lightgrey'\n",
    "\n",
    "# turn off the original one\n",
    "scatter.visible=False\n"
   ]
  },
  {
   "cell_type": "code",
   "execution_count": null,
   "metadata": {},
   "outputs": [],
   "source": [
    "# preview roof normals\n",
    "roof_mask = (df['Classification'] == 1) & (df['HeightAboveGround'] > 10) & (df['Eigenvalue0'] <= .03) & (df['NumberOfReturns'] == df['ReturnNumber'])\n",
    "\n",
    "roof_normals = ipv.quiver(\n",
    "    df.loc[roof_mask, 'X_0'].to_numpy(),\n",
    "    df.loc[roof_mask, 'Y_0'].to_numpy(),\n",
    "    df.loc[roof_mask, 'Z_0'].to_numpy(),\n",
    "    df.loc[roof_mask, 'NormalX'].to_numpy(),\n",
    "    df.loc[roof_mask, 'NormalY'].to_numpy(),\n",
    "    df.loc[roof_mask, 'NormalZ'].to_numpy(),\n",
    "    size=marker_size * 3)\n",
    "\n",
    "tree.visible=False    \n",
    "#nontree.visible=False\n",
    "nontree.size=marker_size/3\n",
    "fig.scatters.append(roof_normals)\n"
   ]
  },
  {
   "cell_type": "markdown",
   "metadata": {},
   "source": [
    "Finally, calculate the mean pitch of all roof points and return the value in degrees."
   ]
  },
  {
   "cell_type": "code",
   "execution_count": null,
   "metadata": {
    "tags": []
   },
   "outputs": [],
   "source": [
    "# measure angles on roof normals to check for flat/pitched\n",
    "unit_z = np.array([0,0,1])\n",
    "unit_x = np.array([1,0,0])\n",
    "\n",
    "df[\"angle_off_vertical\"] = df.apply(lambda item: angle_between(unit_z, np.array([item['NormalX'], item['NormalY'], item['NormalZ']]), degrees=True), axis=1)\n",
    "print(df.loc[roof_mask, 'angle_off_vertical'].mean())"
   ]
  }
 ],
 "metadata": {
  "kernelspec": {
   "display_name": "Python 3",
   "language": "python",
   "name": "python3"
  },
  "language_info": {
   "codemirror_mode": {
    "name": "ipython",
    "version": 3
   },
   "file_extension": ".py",
   "mimetype": "text/x-python",
   "name": "python",
   "nbconvert_exporter": "python",
   "pygments_lexer": "ipython3",
   "version": "3.9.4"
  }
 },
 "nbformat": 4,
 "nbformat_minor": 4
}
