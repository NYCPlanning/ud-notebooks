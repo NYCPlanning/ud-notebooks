{
 "cells": [
  {
   "cell_type": "markdown",
   "source": [
    "# Roofscape Datamining: Methods Research\n",
    "\n",
    "## Questions\n",
    "\n",
    "- What are the impacts of changes to roof regulations such as the Fire Code, Building Codes, and Zoning Resolution provisions (which have different requirements for pitched roofs and low-slope roofs)?\n",
    "- How much roof area is available for technologies such as solar, cool roofs, green roofs, or batteries?  Where/which building types?\n",
    "- What neighborhoods/building types currently have the most/least solar, cool roofs, green roofs, etc.?"
   ],
   "metadata": {}
  },
  {
   "cell_type": "markdown",
   "source": [
    "## Requested Data Points\n",
    "\n",
    "- Roof pitch\n",
    "- Count and areas of individual roof planes\n",
    "- Total roof area\n",
    "- Albedo\n",
    "- Existing cool roofs\n",
    "- Roof shading\n",
    "- Existing solar/green roof installations\n",
    "- Location of rooftop obstructions\n",
    "\n",
    "## Proposed Approach\n",
    "\n",
    "- Phase 1: Geometry\n",
    "  - Pitch ✅\n",
    "  - Segmentation (Count and areas of individual planes) ❌\n",
    "  - Total area ✅\n",
    "  - Roof shading ✅\n",
    "- Phase 2: Surface Materials\n",
    "  - Albedo ✅\n",
    "  - Existing cool roofs ✅\n",
    "- Phase 3: Feature Identification\n",
    "  - Existing solar/green roof installations\n",
    "  - Location of obstructions\n"
   ],
   "metadata": {}
  },
  {
   "cell_type": "markdown",
   "source": [
    "## Geometry\n",
    "\n",
    "Most precedents we found evaluated **roof pitch** using a basic raster-based slope calculation on a LiDAR-derived Digital Surface Model (DSM). (Kouhestani et al, 2019)\n",
    "\n",
    "Direct use of point clouds is also an option although it is much more computationally intensive with few benefits if pitch is the only desired variable. (Palmer et al, 2015), (Carette, 2018)\n",
    "\n",
    "Raster-based aspect calculation can in theory be used to determine the direction of each individual roof pixel, and group them together, allowing for approximate **segmentation** of individual roof planes. However, this is not a suitable method for determinining areas of individual segments due to the need to offset the per-building pixel selection inward by 3-4 feet to account for noise in the DSM around roof edges. Narrow  or variable-pitch surfaces (curved) wouldn't be detected, and an area-based threshold below which detected surfaces wouldn't count toward the total would be difficult to define programmatically with traditional methods.\n",
    "\n",
    "Further research is needed to determine whether or not more reliable or accurate segmentation results could be obtained through direct use of building-level point clouds. Machine-learning methods, especially used in conjunction with existing building footrpints, might yield good results. (Microsoft)\n",
    "\n",
    "**Total roof area** is approximately equivalent to the total footprint area. For regularly-sloped roofs, an estimate could be produced by multiplying footprint area by some correction factor based on average slope. Otherwise, a reliable vector-based segmentation method is needed (see discussion under segmentation).\n",
    "\n",
    "**Roof shading** can be determined using a raster-based hillshade calculation on a DSM. Calculating cumulative shade over time is computationally expensive as it requires summing the results of multiple queries over time. Location-specific calculations of the relevant time intervals between sunrise and sunset would need to be obtained. Finally, since even high-resolution DSMs are noisy/lumpy and are \"2.5D\" rather than truly 3D, more accurate results could potentially be obtained using 3D vector models (though not at scale). Precedents are still needed for this topic.\n",
    "\n",
    "More accurate estimates of shading might benefit from direct use of point clouds or derived meshes, there is some overlap between these methods and those discussed below for 3d feature identification."
   ],
   "metadata": {}
  },
  {
   "cell_type": "markdown",
   "source": [
    "## Surface Materials\n",
    "\n",
    "One method for building-level **albedo** is to use LiDAR return intensity as a proxy. Intensity measurements are for a single wavelength of light (1064 nm per Quantum Geospatial Report). The intensity value can be used to estimate albedo using a formula (CARSI Cool Roofs), although accurate results depend on the properties of surface materials. (Joerg et al, 2015)\n",
    "\n",
    "Multiband aerial imagery can be used to classify roof materials, for which detailed reflectance properties are already known. (Ban-Weiss 2014). However this method is not feasibile without a database of lab-measured values appropriate for the study region.\n",
    "\n",
    "Either method could be used to detect the presence of **existing cool roofs**, with varying accuracy."
   ],
   "metadata": {}
  },
  {
   "cell_type": "markdown",
   "source": [
    "## Feature Identification\n",
    "\n",
    "Reliable detection of individual obstructions can be accomplished through machine learning approaches. Related but slightly different methods are used for:\n",
    "\n",
    "**Raster Imagery**\n",
    "\n",
    "(Wu and Biljecki, 2021)\n",
    "\n",
    "**LiDAR Point Clouds**\n",
    "\n",
    "Basic classification is possible using existing classification within the datasets in conjunction with height-above-ground and eigenvalues generated by PDAL. (Carette, 2018)\n"
   ],
   "metadata": {}
  },
  {
   "cell_type": "markdown",
   "source": [
    "## Other\n",
    "\n",
    "- [Random Forest ML Model](https://www.youtube.com/watch?v=RXQBMAGaabs)\n",
    "- UNM [ArcGis LiDAR Building Extraction Tutorial](https://www.youtube.com/watch?v=x4nJYKeFfzk)\n",
    "- [Reconstructing 3D buildings from Aerial LiDAR with Deep Learning](https://developers.arcgis.com/python/sample-notebooks/building-reconstruction-using-mask-rcnn/)\n",
    "- CUNY CARSI NYC Solar Map\n",
    "  - [CUNY CARSI NYC Solar Map:](https://nysolarmap.com/)** (no paper/article)\n",
    "  - Who authored this?\n",
    "    - Paper cited at bottom of [map assumptions](https://nysolarmap.com/about/map-assumptions/) is from Wilson Rickerson, of Meister Consultants Group in Boston. This appears to be the only reference to this paper indexed by Google or CLIO\n",
    "    - [CARSI](http://carsi.hunter.cuny.edu) at CUNY Hunter is credited with the data processing.\n",
    "  - [Paper](http://carsi.hunter.cuny.edu/wp-content/uploads/2014/06/Ahearn_sumbitted_final_manuscript_May4_20112.pdf)\n",
    "  - Uses intensity returns as a proxy for albedo, and estimated incident radiation (based on a Digital Surface Model), ranks buildings by \"cooling potential\" where high-exposure, low-albedo surfaces are said to have higher potential and are thus good candidates for cool roof treatment.\n",
    "  - \"we compared lidar intensity to World View 2 panchromatic reflectance and found a high coefficient of determination (R2 - ~0.9)\" – note this is *panchromatic* and not *multispectral*\n",
    "  - 1m spatial resolution, averaged per rooftop\n",
    "  - includes classification of rooftop materials from satellite imagery\n",
    "  - [details](http://mappingideas.sdsu.edu/mashup/Voting/vote.html) on the website of a competition it was entered in."
   ],
   "metadata": {}
  },
  {
   "cell_type": "markdown",
   "source": [
    "## Glossary\n",
    "\n",
    "### Roof Pitch\n",
    "\n",
    "Or slope\n",
    "\n",
    "### Cool Roof\n",
    "\n",
    "### Green Roof\n",
    "\n",
    "### Albedo\n",
    "\n",
    "- Defined as the fraction of incoming sunlight that is reflected off the surface of an object\n",
    "- Unlike reflectance, which expresses a value for a single angle of incidence, albedo expresses all solar angles within a given period.\n",
    "- Isn't just visible light but all solar radiation across the full spectrum of solar radiation (usually 0.3 and 3 μm per [Wikipeida](https://en.wikipedia.org/wiki/Albedo))\n",
    "- Calculated through satellite imagery\n",
    "- Higher albedo values lead to more sunlight being reflected and lower temperatures in urban areas\n",
    "- \"Green roofs are highly efficient in reducing the variation of indoor temperature and decreasing the level of building energy consumption both in cold and warm climates. The albedo of green roofs ranges from 0.7 to 0.85, a value much higher than other roof\"\n",
    "\n",
    "### [NYC Fire Code](https://www1.nyc.gov/site/fdny/about/resources/code-and-rules/nyc-fire-code.page)\n",
    "\n",
    "Among other things, the Fire Code requires specific access and setbacks for venting and other firefighting purposes on low-slope roofs under 100'. According to Mayor's Office of Sustainability, FDNY already claims more rooftop space than most other fire departments in the US, and the proposed 2021 Fire Code revision will expand those requirements. Section 504 \"Building and Rooftop Access\" addresses access, 504.4 deals with specific access requirements for low-rise, low-slope roofs.\n",
    "\n",
    "### [Local Law 92 (of 2019)](https://legistar.council.nyc.gov/LegislationDetail.aspx?ID=3332071&GUID=A2326DB7-EBE2-4CF3-AC1D-50834B9BDDC9&Options=&Search=)\n",
    "\n",
    "### [Local Law 94 (of 2019)](https://legistar.council.nyc.gov/LegislationDetail.aspx?ID=3557657&GUID=B4C3A822-2FBB-45FD-8A74-C59DD95246C1&Options=ID|Text|&Search=)\n"
   ],
   "metadata": {}
  },
  {
   "cell_type": "markdown",
   "source": [
    "*Credit: Carsten Rodin (NYC DCP), Rudransh Dikshit (Civic Innovation Corps Summer 2021)*"
   ],
   "metadata": {}
  }
 ],
 "metadata": {
  "kernelspec": {
   "display_name": "Python 3",
   "language": "python",
   "name": "python3"
  },
  "language_info": {
   "codemirror_mode": {
    "name": "ipython",
    "version": 3
   },
   "file_extension": ".py",
   "mimetype": "text/x-python",
   "name": "python",
   "nbconvert_exporter": "python",
   "pygments_lexer": "ipython3",
   "version": "3.9.4"
  }
 },
 "nbformat": 4,
 "nbformat_minor": 5
}