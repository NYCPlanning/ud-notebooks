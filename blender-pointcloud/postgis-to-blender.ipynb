{
 "cells": [
  {
   "cell_type": "markdown",
   "id": "424102d5-8466-47fb-9027-f7e3d9373898",
   "metadata": {},
   "source": [
    "- built-in point cloud object? use bpy.ops.object.pointcloud_add\n",
    "- http://georglempe.de/wordpress/index.php/2020/08/rendering-point-clouds-in-blender/\n",
    "- "
   ]
  },
  {
   "cell_type": "markdown",
   "id": "4b248669-ccb5-4969-b029-293bc216bb1b",
   "metadata": {},
   "source": [
    "# PostGIS Geometry to Blender"
   ]
  },
  {
   "cell_type": "code",
   "execution_count": 1,
   "id": "5fdc9e3e-d1a7-43b2-ace6-e9cc4e369577",
   "metadata": {
    "collapsed": true,
    "jupyter": {
     "outputs_hidden": true
    }
   },
   "outputs": [
    {
     "ename": "ModuleNotFoundError",
     "evalue": "No module named 'pdal'",
     "output_type": "error",
     "traceback": [
      "\u001b[0;31m---------------------------------------------------------------------------\u001b[0m",
      "\u001b[0;31mModuleNotFoundError\u001b[0m                       Traceback (most recent call last)",
      "\u001b[0;32m<ipython-input-1-8838207bcf6f>\u001b[0m in \u001b[0;36m<module>\u001b[0;34m\u001b[0m\n\u001b[1;32m      2\u001b[0m \u001b[0;32mfrom\u001b[0m \u001b[0mdotenv\u001b[0m \u001b[0;32mimport\u001b[0m \u001b[0mload_dotenv\u001b[0m\u001b[0;34m\u001b[0m\u001b[0;34m\u001b[0m\u001b[0m\n\u001b[1;32m      3\u001b[0m \u001b[0;32mfrom\u001b[0m \u001b[0mshapely\u001b[0m \u001b[0;32mimport\u001b[0m \u001b[0mwkt\u001b[0m\u001b[0;34m\u001b[0m\u001b[0;34m\u001b[0m\u001b[0m\n\u001b[0;32m----> 4\u001b[0;31m \u001b[0;32mimport\u001b[0m \u001b[0mpdal\u001b[0m\u001b[0;34m\u001b[0m\u001b[0;34m\u001b[0m\u001b[0m\n\u001b[0m\u001b[1;32m      5\u001b[0m \u001b[0;32mimport\u001b[0m \u001b[0mpsycopg2\u001b[0m\u001b[0;34m\u001b[0m\u001b[0;34m\u001b[0m\u001b[0m\n\u001b[1;32m      6\u001b[0m \u001b[0;32mimport\u001b[0m \u001b[0mjson\u001b[0m\u001b[0;34m\u001b[0m\u001b[0;34m\u001b[0m\u001b[0m\n",
      "\u001b[0;31mModuleNotFoundError\u001b[0m: No module named 'pdal'"
     ]
    }
   ],
   "source": [
    "import os\n",
    "from dotenv import load_dotenv\n",
    "from shapely import wkt\n",
    "import pdal\n",
    "import psycopg2\n",
    "import json\n",
    "import pandas as pd\n",
    "from dotenv import dotenv_values"
   ]
  },
  {
   "cell_type": "code",
   "execution_count": 2,
   "id": "e4449c45-48ac-48cc-9482-e9c377f2ce88",
   "metadata": {},
   "outputs": [],
   "source": [
    "# load environment variables\n",
    "load_dotenv(\".env.testing\")\n",
    "conn_vars = ['PG_USER', 'PG_PASS', 'PG_HOST', 'PG_PORT', 'PG_DB']\n",
    "user, password, host, port, dbname = [os.getenv(var) for var in conn_vars]\n",
    "conn_string = f'dbname={dbname} user={user} password={password} host={host} port={port}'"
   ]
  },
  {
   "cell_type": "code",
   "execution_count": 89,
   "id": "20ead451-1244-461a-844a-0699f9a57d14",
   "metadata": {},
   "outputs": [],
   "source": [
    "# make database connection\n",
    "conn = psycopg2.connect(conn_string, cursor_factory=psycopg2.extras.NamedTupleCursor)\n",
    "cursor = conn.cursor()"
   ]
  },
  {
   "cell_type": "code",
   "execution_count": 13,
   "id": "1dc3ab54-5a10-4b21-b4cd-3843b2c6801b",
   "metadata": {},
   "outputs": [],
   "source": [
    "# WKT string representing area of interest\n",
    "aoi = \"Polygon ((985474.64370176 186719.01067065, 985563.13880442 186665.99333437, 985490.9873919 186556.76964911, 985420.82911231 186599.42269409, 985427.60576432 186622.54303622, 985474.64370176 186719.01067065))\""
   ]
  },
  {
   "cell_type": "code",
   "execution_count": 14,
   "id": "63df9230-c3f5-46b4-a1ac-711d0c48fe7b",
   "metadata": {},
   "outputs": [],
   "source": [
    "aoi_polygon = wkt.loads(aoi)\n",
    "aoi_center = aoi_polygon.centroid.coords.xy"
   ]
  },
  {
   "cell_type": "markdown",
   "id": "fc0f12a3-4292-464d-83d3-8f901c903007",
   "metadata": {},
   "source": [
    "## Tax Lots"
   ]
  },
  {
   "cell_type": "code",
   "execution_count": 74,
   "id": "40cad629-fb68-4fba-840b-13033153c439",
   "metadata": {},
   "outputs": [],
   "source": [
    "cursor.execute(\"SELECT * FROM swimmingpool LIMIT 5;\")"
   ]
  },
  {
   "cell_type": "code",
   "execution_count": 75,
   "id": "5ffc4e07-60e9-408d-acc4-cf5c13634177",
   "metadata": {},
   "outputs": [],
   "source": [
    "results = cursor.fetchall()"
   ]
  },
  {
   "cell_type": "code",
   "execution_count": 78,
   "id": "9368a552-d0b9-4dae-a70d-a3ba3683f2a8",
   "metadata": {},
   "outputs": [
    {
     "data": {
      "text/plain": [
       "1"
      ]
     },
     "execution_count": 78,
     "metadata": {},
     "output_type": "execute_result"
    }
   ],
   "source": [
    "results[0].ogc_fid"
   ]
  },
  {
   "cell_type": "markdown",
   "id": "7e7af2da-e95e-4c5d-86ac-b2ca1132b9f4",
   "metadata": {},
   "source": [
    "## Point Cloud"
   ]
  },
  {
   "cell_type": "code",
   "execution_count": 20,
   "id": "5b4b5535-4a8c-48f9-84d3-1a74b7567791",
   "metadata": {},
   "outputs": [
    {
     "name": "stdout",
     "output_type": "stream",
     "text": [
      "CPU times: user 391 ms, sys: 45.6 ms, total: 437 ms\n",
      "Wall time: 2.01 s\n"
     ]
    },
    {
     "data": {
      "text/plain": [
       "16115"
      ]
     },
     "execution_count": 20,
     "metadata": {},
     "output_type": "execute_result"
    }
   ],
   "source": [
    "# get lidar points using PDAL\n",
    "pipeline_def = {\n",
    "    \"pipeline\": [\n",
    "        {\n",
    "            \"type\":\"readers.pgpointcloud\",\n",
    "            \"connection\": f'host={host} dbname={dbname} user={user} password={password} port={port}',\n",
    "            \"table\": \"pointcloud\",\n",
    "            \"column\": \"pa\",\n",
    "            \"spatialreference\": \"EPSG:2263\",\n",
    "            \"where\": f\"PC_Intersects(pa, ST_GeomFromText('{aoi}',2263))\"\n",
    "        },\n",
    "        {\n",
    "            \"type\":\"filters.crop\",\n",
    "            \"polygon\": f\"{aoi}\",\n",
    "            \"distance\": 500\n",
    "        },\n",
    "        {   \"type\":\"filters.hag_nn\"},\n",
    "        {   \"type\":\"filters.eigenvalues\",\n",
    "            \"knn\":16},\n",
    "        {   \"type\":\"filters.normal\",\n",
    "            \"knn\":16}\n",
    "    ]\n",
    "}\n",
    "pipeline = pdal.Pipeline(json.dumps(pipeline_def))\n",
    "pipeline.validate()\n",
    "%time pipeline.execute()"
   ]
  },
  {
   "cell_type": "code",
   "execution_count": 23,
   "id": "501058f5-9679-4f10-a5d9-aa4a5680f397",
   "metadata": {},
   "outputs": [],
   "source": [
    "def pipeline_to_dataframe(pipeline):\n",
    "    arr = pipeline.arrays[0]\n",
    "    description = arr.dtype.descr\n",
    "    cols = [col for col, __ in description]\n",
    "    df = pd.DataFrame({col: arr[col] for col in cols})\n",
    "    return df"
   ]
  },
  {
   "cell_type": "code",
   "execution_count": 24,
   "id": "7dfb39db-a83f-4948-b2eb-e1e3c323baaf",
   "metadata": {},
   "outputs": [],
   "source": [
    "df = pipeline_to_dataframe(pipeline)"
   ]
  },
  {
   "cell_type": "code",
   "execution_count": 28,
   "id": "e297b714-467b-4696-8d27-968e0b0f765e",
   "metadata": {},
   "outputs": [],
   "source": [
    "# \"zero\" all coordinates for visualization\n",
    "df['X_0'] = df['X'] - aoi_center[0]\n",
    "df['Y_0'] = df['Y'] - aoi_center[1]\n",
    "df['Z_0'] = df['Z'] - df['Z'].min() # uncomment to bring Z values to origin"
   ]
  },
  {
   "cell_type": "code",
   "execution_count": 29,
   "id": "4ec44a80-aea2-4c6c-8273-fa5657eb2b96",
   "metadata": {},
   "outputs": [
    {
     "data": {
      "text/html": [
       "<div>\n",
       "<style scoped>\n",
       "    .dataframe tbody tr th:only-of-type {\n",
       "        vertical-align: middle;\n",
       "    }\n",
       "\n",
       "    .dataframe tbody tr th {\n",
       "        vertical-align: top;\n",
       "    }\n",
       "\n",
       "    .dataframe thead th {\n",
       "        text-align: right;\n",
       "    }\n",
       "</style>\n",
       "<table border=\"1\" class=\"dataframe\">\n",
       "  <thead>\n",
       "    <tr style=\"text-align: right;\">\n",
       "      <th></th>\n",
       "      <th>X</th>\n",
       "      <th>Y</th>\n",
       "      <th>Z</th>\n",
       "      <th>Intensity</th>\n",
       "      <th>ReturnNumber</th>\n",
       "      <th>NumberOfReturns</th>\n",
       "      <th>ScanDirectionFlag</th>\n",
       "      <th>EdgeOfFlightLine</th>\n",
       "      <th>Classification</th>\n",
       "      <th>ScanAngleRank</th>\n",
       "      <th>...</th>\n",
       "      <th>Eigenvalue0</th>\n",
       "      <th>Eigenvalue1</th>\n",
       "      <th>Eigenvalue2</th>\n",
       "      <th>NormalX</th>\n",
       "      <th>NormalY</th>\n",
       "      <th>NormalZ</th>\n",
       "      <th>Curvature</th>\n",
       "      <th>X_0</th>\n",
       "      <th>Y_0</th>\n",
       "      <th>Z_0</th>\n",
       "    </tr>\n",
       "  </thead>\n",
       "  <tbody>\n",
       "    <tr>\n",
       "      <th>0</th>\n",
       "      <td>985422.10</td>\n",
       "      <td>186600.75</td>\n",
       "      <td>49.41</td>\n",
       "      <td>11037</td>\n",
       "      <td>1</td>\n",
       "      <td>1</td>\n",
       "      <td>0</td>\n",
       "      <td>0</td>\n",
       "      <td>2</td>\n",
       "      <td>8.922</td>\n",
       "      <td>...</td>\n",
       "      <td>0.002487</td>\n",
       "      <td>0.940527</td>\n",
       "      <td>2.153609</td>\n",
       "      <td>-0.014477</td>\n",
       "      <td>-0.001749</td>\n",
       "      <td>0.999894</td>\n",
       "      <td>0.000803</td>\n",
       "      <td>-65.685097</td>\n",
       "      <td>-36.868519</td>\n",
       "      <td>7.97</td>\n",
       "    </tr>\n",
       "    <tr>\n",
       "      <th>1</th>\n",
       "      <td>985422.16</td>\n",
       "      <td>186600.25</td>\n",
       "      <td>49.51</td>\n",
       "      <td>14625</td>\n",
       "      <td>1</td>\n",
       "      <td>1</td>\n",
       "      <td>0</td>\n",
       "      <td>0</td>\n",
       "      <td>1</td>\n",
       "      <td>2.952</td>\n",
       "      <td>...</td>\n",
       "      <td>0.002759</td>\n",
       "      <td>0.791253</td>\n",
       "      <td>2.032378</td>\n",
       "      <td>-0.009946</td>\n",
       "      <td>-0.012073</td>\n",
       "      <td>0.999878</td>\n",
       "      <td>0.000976</td>\n",
       "      <td>-65.625097</td>\n",
       "      <td>-37.368519</td>\n",
       "      <td>8.07</td>\n",
       "    </tr>\n",
       "    <tr>\n",
       "      <th>2</th>\n",
       "      <td>985422.24</td>\n",
       "      <td>186598.78</td>\n",
       "      <td>49.47</td>\n",
       "      <td>12969</td>\n",
       "      <td>1</td>\n",
       "      <td>1</td>\n",
       "      <td>1</td>\n",
       "      <td>0</td>\n",
       "      <td>1</td>\n",
       "      <td>5.202</td>\n",
       "      <td>...</td>\n",
       "      <td>0.002930</td>\n",
       "      <td>0.890157</td>\n",
       "      <td>1.656769</td>\n",
       "      <td>0.005803</td>\n",
       "      <td>-0.004145</td>\n",
       "      <td>0.999975</td>\n",
       "      <td>0.001149</td>\n",
       "      <td>-65.545097</td>\n",
       "      <td>-38.838519</td>\n",
       "      <td>8.03</td>\n",
       "    </tr>\n",
       "    <tr>\n",
       "      <th>3</th>\n",
       "      <td>985422.65</td>\n",
       "      <td>186599.53</td>\n",
       "      <td>49.38</td>\n",
       "      <td>12417</td>\n",
       "      <td>1</td>\n",
       "      <td>1</td>\n",
       "      <td>0</td>\n",
       "      <td>0</td>\n",
       "      <td>2</td>\n",
       "      <td>6.690</td>\n",
       "      <td>...</td>\n",
       "      <td>0.002736</td>\n",
       "      <td>0.795439</td>\n",
       "      <td>1.835969</td>\n",
       "      <td>-0.009411</td>\n",
       "      <td>-0.013664</td>\n",
       "      <td>0.999862</td>\n",
       "      <td>0.001039</td>\n",
       "      <td>-65.135097</td>\n",
       "      <td>-38.088519</td>\n",
       "      <td>7.94</td>\n",
       "    </tr>\n",
       "    <tr>\n",
       "      <th>4</th>\n",
       "      <td>985422.75</td>\n",
       "      <td>186602.64</td>\n",
       "      <td>49.47</td>\n",
       "      <td>11313</td>\n",
       "      <td>1</td>\n",
       "      <td>1</td>\n",
       "      <td>0</td>\n",
       "      <td>0</td>\n",
       "      <td>2</td>\n",
       "      <td>8.904</td>\n",
       "      <td>...</td>\n",
       "      <td>0.002719</td>\n",
       "      <td>1.157059</td>\n",
       "      <td>2.516748</td>\n",
       "      <td>0.012047</td>\n",
       "      <td>-0.025433</td>\n",
       "      <td>0.999604</td>\n",
       "      <td>0.000739</td>\n",
       "      <td>-65.035097</td>\n",
       "      <td>-34.978519</td>\n",
       "      <td>8.03</td>\n",
       "    </tr>\n",
       "    <tr>\n",
       "      <th>...</th>\n",
       "      <td>...</td>\n",
       "      <td>...</td>\n",
       "      <td>...</td>\n",
       "      <td>...</td>\n",
       "      <td>...</td>\n",
       "      <td>...</td>\n",
       "      <td>...</td>\n",
       "      <td>...</td>\n",
       "      <td>...</td>\n",
       "      <td>...</td>\n",
       "      <td>...</td>\n",
       "      <td>...</td>\n",
       "      <td>...</td>\n",
       "      <td>...</td>\n",
       "      <td>...</td>\n",
       "      <td>...</td>\n",
       "      <td>...</td>\n",
       "      <td>...</td>\n",
       "      <td>...</td>\n",
       "      <td>...</td>\n",
       "      <td>...</td>\n",
       "    </tr>\n",
       "    <tr>\n",
       "      <th>16110</th>\n",
       "      <td>985495.18</td>\n",
       "      <td>186705.93</td>\n",
       "      <td>52.49</td>\n",
       "      <td>20419</td>\n",
       "      <td>1</td>\n",
       "      <td>1</td>\n",
       "      <td>1</td>\n",
       "      <td>0</td>\n",
       "      <td>1</td>\n",
       "      <td>-14.652</td>\n",
       "      <td>...</td>\n",
       "      <td>0.008433</td>\n",
       "      <td>0.153189</td>\n",
       "      <td>0.594060</td>\n",
       "      <td>0.073000</td>\n",
       "      <td>0.024508</td>\n",
       "      <td>0.997031</td>\n",
       "      <td>0.011160</td>\n",
       "      <td>7.394903</td>\n",
       "      <td>68.311481</td>\n",
       "      <td>11.05</td>\n",
       "    </tr>\n",
       "    <tr>\n",
       "      <th>16111</th>\n",
       "      <td>985495.34</td>\n",
       "      <td>186705.96</td>\n",
       "      <td>52.36</td>\n",
       "      <td>19592</td>\n",
       "      <td>1</td>\n",
       "      <td>1</td>\n",
       "      <td>0</td>\n",
       "      <td>0</td>\n",
       "      <td>1</td>\n",
       "      <td>-14.658</td>\n",
       "      <td>...</td>\n",
       "      <td>0.008433</td>\n",
       "      <td>0.153189</td>\n",
       "      <td>0.594060</td>\n",
       "      <td>0.073000</td>\n",
       "      <td>0.024508</td>\n",
       "      <td>0.997031</td>\n",
       "      <td>0.011160</td>\n",
       "      <td>7.554903</td>\n",
       "      <td>68.341481</td>\n",
       "      <td>10.92</td>\n",
       "    </tr>\n",
       "    <tr>\n",
       "      <th>16112</th>\n",
       "      <td>985495.54</td>\n",
       "      <td>186706.18</td>\n",
       "      <td>52.39</td>\n",
       "      <td>17618</td>\n",
       "      <td>1</td>\n",
       "      <td>1</td>\n",
       "      <td>1</td>\n",
       "      <td>0</td>\n",
       "      <td>1</td>\n",
       "      <td>15.054</td>\n",
       "      <td>...</td>\n",
       "      <td>0.008433</td>\n",
       "      <td>0.153189</td>\n",
       "      <td>0.594060</td>\n",
       "      <td>0.073000</td>\n",
       "      <td>0.024508</td>\n",
       "      <td>0.997031</td>\n",
       "      <td>0.011160</td>\n",
       "      <td>7.754903</td>\n",
       "      <td>68.561481</td>\n",
       "      <td>10.95</td>\n",
       "    </tr>\n",
       "    <tr>\n",
       "      <th>16113</th>\n",
       "      <td>985495.41</td>\n",
       "      <td>186706.28</td>\n",
       "      <td>52.39</td>\n",
       "      <td>19754</td>\n",
       "      <td>1</td>\n",
       "      <td>1</td>\n",
       "      <td>0</td>\n",
       "      <td>0</td>\n",
       "      <td>1</td>\n",
       "      <td>15.054</td>\n",
       "      <td>...</td>\n",
       "      <td>0.008433</td>\n",
       "      <td>0.153189</td>\n",
       "      <td>0.594060</td>\n",
       "      <td>0.073000</td>\n",
       "      <td>0.024508</td>\n",
       "      <td>0.997031</td>\n",
       "      <td>0.011160</td>\n",
       "      <td>7.624903</td>\n",
       "      <td>68.661481</td>\n",
       "      <td>10.95</td>\n",
       "    </tr>\n",
       "    <tr>\n",
       "      <th>16114</th>\n",
       "      <td>985495.41</td>\n",
       "      <td>186706.48</td>\n",
       "      <td>52.39</td>\n",
       "      <td>19867</td>\n",
       "      <td>1</td>\n",
       "      <td>1</td>\n",
       "      <td>1</td>\n",
       "      <td>0</td>\n",
       "      <td>1</td>\n",
       "      <td>-14.658</td>\n",
       "      <td>...</td>\n",
       "      <td>0.008433</td>\n",
       "      <td>0.153189</td>\n",
       "      <td>0.594060</td>\n",
       "      <td>0.073000</td>\n",
       "      <td>0.024508</td>\n",
       "      <td>0.997031</td>\n",
       "      <td>0.011160</td>\n",
       "      <td>7.624903</td>\n",
       "      <td>68.861481</td>\n",
       "      <td>10.95</td>\n",
       "    </tr>\n",
       "  </tbody>\n",
       "</table>\n",
       "<p>16115 rows × 26 columns</p>\n",
       "</div>"
      ],
      "text/plain": [
       "               X          Y      Z  Intensity  ReturnNumber  NumberOfReturns  \\\n",
       "0      985422.10  186600.75  49.41      11037             1                1   \n",
       "1      985422.16  186600.25  49.51      14625             1                1   \n",
       "2      985422.24  186598.78  49.47      12969             1                1   \n",
       "3      985422.65  186599.53  49.38      12417             1                1   \n",
       "4      985422.75  186602.64  49.47      11313             1                1   \n",
       "...          ...        ...    ...        ...           ...              ...   \n",
       "16110  985495.18  186705.93  52.49      20419             1                1   \n",
       "16111  985495.34  186705.96  52.36      19592             1                1   \n",
       "16112  985495.54  186706.18  52.39      17618             1                1   \n",
       "16113  985495.41  186706.28  52.39      19754             1                1   \n",
       "16114  985495.41  186706.48  52.39      19867             1                1   \n",
       "\n",
       "       ScanDirectionFlag  EdgeOfFlightLine  Classification  ScanAngleRank  \\\n",
       "0                      0                 0               2          8.922   \n",
       "1                      0                 0               1          2.952   \n",
       "2                      1                 0               1          5.202   \n",
       "3                      0                 0               2          6.690   \n",
       "4                      0                 0               2          8.904   \n",
       "...                  ...               ...             ...            ...   \n",
       "16110                  1                 0               1        -14.652   \n",
       "16111                  0                 0               1        -14.658   \n",
       "16112                  1                 0               1         15.054   \n",
       "16113                  0                 0               1         15.054   \n",
       "16114                  1                 0               1        -14.658   \n",
       "\n",
       "       ...  Eigenvalue0  Eigenvalue1  Eigenvalue2   NormalX   NormalY  \\\n",
       "0      ...     0.002487     0.940527     2.153609 -0.014477 -0.001749   \n",
       "1      ...     0.002759     0.791253     2.032378 -0.009946 -0.012073   \n",
       "2      ...     0.002930     0.890157     1.656769  0.005803 -0.004145   \n",
       "3      ...     0.002736     0.795439     1.835969 -0.009411 -0.013664   \n",
       "4      ...     0.002719     1.157059     2.516748  0.012047 -0.025433   \n",
       "...    ...          ...          ...          ...       ...       ...   \n",
       "16110  ...     0.008433     0.153189     0.594060  0.073000  0.024508   \n",
       "16111  ...     0.008433     0.153189     0.594060  0.073000  0.024508   \n",
       "16112  ...     0.008433     0.153189     0.594060  0.073000  0.024508   \n",
       "16113  ...     0.008433     0.153189     0.594060  0.073000  0.024508   \n",
       "16114  ...     0.008433     0.153189     0.594060  0.073000  0.024508   \n",
       "\n",
       "        NormalZ  Curvature        X_0        Y_0    Z_0  \n",
       "0      0.999894   0.000803 -65.685097 -36.868519   7.97  \n",
       "1      0.999878   0.000976 -65.625097 -37.368519   8.07  \n",
       "2      0.999975   0.001149 -65.545097 -38.838519   8.03  \n",
       "3      0.999862   0.001039 -65.135097 -38.088519   7.94  \n",
       "4      0.999604   0.000739 -65.035097 -34.978519   8.03  \n",
       "...         ...        ...        ...        ...    ...  \n",
       "16110  0.997031   0.011160   7.394903  68.311481  11.05  \n",
       "16111  0.997031   0.011160   7.554903  68.341481  10.92  \n",
       "16112  0.997031   0.011160   7.754903  68.561481  10.95  \n",
       "16113  0.997031   0.011160   7.624903  68.661481  10.95  \n",
       "16114  0.997031   0.011160   7.624903  68.861481  10.95  \n",
       "\n",
       "[16115 rows x 26 columns]"
      ]
     },
     "execution_count": 29,
     "metadata": {},
     "output_type": "execute_result"
    }
   ],
   "source": [
    "df"
   ]
  },
  {
   "cell_type": "markdown",
   "id": "b55c45c8-77ac-4ed9-a253-b99f4c680ac8",
   "metadata": {},
   "source": [
    "## Building Blender Geometries\n",
    "\n",
    "This part likely needs to happen on the Blender side. See https://b3d.interplanety.org/en/how-to-create-mesh-through-the-blender-python-api/\n",
    "\n",
    "maybe use [compas](https://github.com/compas-dev/compas)?"
   ]
  },
  {
   "cell_type": "code",
   "execution_count": null,
   "id": "9807ef70-61e7-40a9-971b-137c30629606",
   "metadata": {},
   "outputs": [],
   "source": [
    "# import bpy"
   ]
  },
  {
   "cell_type": "code",
   "execution_count": 6,
   "id": "fc80edf1-9063-4203-b7e3-7c941b6aff37",
   "metadata": {},
   "outputs": [],
   "source": [
    "vertices = [(0, 0, 0)]\n",
    "edges = []\n",
    "faces = []"
   ]
  },
  {
   "cell_type": "code",
   "execution_count": 7,
   "id": "8ab3d3f1-9de7-476f-8226-8e6d1af9975a",
   "metadata": {},
   "outputs": [],
   "source": [
    "# build up mesh from verts edges and faces\n",
    "# mesh = bpy.data.meshes.new('mesh1')\n",
    "# mesh.from_pydata(vertices, edges, faces)\n",
    "# mesh.update()"
   ]
  },
  {
   "cell_type": "code",
   "execution_count": 8,
   "id": "2c5c09e6-3ec3-47c8-8ed2-72387233e35b",
   "metadata": {},
   "outputs": [],
   "source": [
    "# wrap the mesh in a new object\n",
    "# obj = bpy.data.objects.new('object1', mesh)"
   ]
  },
  {
   "cell_type": "code",
   "execution_count": 9,
   "id": "a486d4a0-e1de-44a3-9f24-3171b84cb9d4",
   "metadata": {},
   "outputs": [],
   "source": [
    "# add to the scene graph\n",
    "# bpy.context.scene.collection.objects.link(obj)"
   ]
  }
 ],
 "metadata": {
  "kernelspec": {
   "display_name": "Python 3",
   "language": "python",
   "name": "python3"
  },
  "language_info": {
   "codemirror_mode": {
    "name": "ipython",
    "version": 3
   },
   "file_extension": ".py",
   "mimetype": "text/x-python",
   "name": "python",
   "nbconvert_exporter": "python",
   "pygments_lexer": "ipython3",
   "version": "3.9.4"
  }
 },
 "nbformat": 4,
 "nbformat_minor": 5
}